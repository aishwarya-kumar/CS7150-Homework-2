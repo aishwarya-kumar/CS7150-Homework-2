{
  "cells": [
    {
      "cell_type": "markdown",
      "id": "0ff28b42",
      "metadata": {
        "id": "0ff28b42"
      },
      "source": [
        "This can be run [run on Google Colab using this link](https://colab.research.google.com/github/CS7150/CS7150-Homework-2/blob/main/HW2_2_CIFAR10Classifier.ipynb)\n",
        "\n",
        "<font size='6'>**Homework 2.2: Neural Network CIFAR-10 Classification**</font>"
      ]
    },
    {
      "cell_type": "markdown",
      "id": "0ef1d8e6",
      "metadata": {
        "id": "0ef1d8e6"
      },
      "source": [
        "<font size='5'>**Overview**</font>\n",
        "\n",
        "In this CS7150 assignment, our objective is to build a neural network featuring two fully-connected layers designed for classification purposes. We will evaluate the performance of this neural network by testing it on the CIFAR-10 dataset.\n",
        "\n",
        "This assignment adheres to a standard classification setup, which encompasses the use of a dataloader to load labeled image data in a natural form and training the model in a minibatch-based fashion.\n",
        "\n",
        "**Your assignment**: Your responsibility throughout this notebook is to thoroughly review the content and address all the conceptual and technical questions identified within the sections marked with \"Task\" headers and \"TODO:\" comments in the code."
      ]
    },
    {
      "cell_type": "markdown",
      "id": "ih2KqUX1Aj1G",
      "metadata": {
        "id": "ih2KqUX1Aj1G"
      },
      "source": [
        "<font size='5'>**I) Setup**</font>"
      ]
    },
    {
      "cell_type": "code",
      "execution_count": 2,
      "id": "1bGxnahJAlmm",
      "metadata": {
        "id": "1bGxnahJAlmm"
      },
      "outputs": [],
      "source": [
        "import os\n",
        "import torch\n",
        "from torch import nn\n",
        "from torchvision.datasets import CIFAR10\n",
        "from torchvision.transforms import Compose, ToTensor\n",
        "from torch.utils.data import DataLoader\n",
        "import matplotlib.pyplot as plt"
      ]
    },
    {
      "cell_type": "markdown",
      "id": "075f340c",
      "metadata": {
        "id": "075f340c"
      },
      "source": [
        "<font size='4'>**Device Setup**</font>"
      ]
    },
    {
      "cell_type": "markdown",
      "id": "33798935",
      "metadata": {
        "id": "33798935"
      },
      "source": [
        "\n",
        "We aim to enable model training on a GPU to expedite our computations. First, we'll check whether torch.cuda is accessible; if it is, we will utilize the GPU; otherwise, we will continue to using the CPU."
      ]
    },
    {
      "cell_type": "code",
      "execution_count": 3,
      "id": "c9a41951",
      "metadata": {
        "colab": {
          "base_uri": "https://localhost:8080/"
        },
        "id": "c9a41951",
        "outputId": "803d30f7-d122-45ec-f105-1cf79676d3ff"
      },
      "outputs": [
        {
          "output_type": "stream",
          "name": "stdout",
          "text": [
            "Using cuda device\n"
          ]
        }
      ],
      "source": [
        "device = \"cuda\" if torch.cuda.is_available() else \"cpu\"\n",
        "print(f\"Using {device} device\")"
      ]
    },
    {
      "cell_type": "markdown",
      "id": "2d6db073",
      "metadata": {
        "id": "2d6db073"
      },
      "source": [
        "<font size='4'>**Loading CIFAR-10 Data**</font>"
      ]
    },
    {
      "cell_type": "markdown",
      "id": "af842fd2",
      "metadata": {
        "id": "af842fd2"
      },
      "source": [
        "The CIFAR-10 dataset comprises a collection of 60,000 32x32 color images distributed across ten distinct classes. These classes correspond to various objects and include airplanes, cars, birds, cats, deer, dogs, frogs, horses, ships, and trucks. Within each class, there are precisely 6,000 images."
      ]
    },
    {
      "cell_type": "code",
      "execution_count": 4,
      "id": "0c9c37c7",
      "metadata": {
        "colab": {
          "base_uri": "https://localhost:8080/"
        },
        "id": "0c9c37c7",
        "outputId": "3e23c569-0ee7-4fef-c415-733e7aaf62ce"
      },
      "outputs": [
        {
          "output_type": "stream",
          "name": "stdout",
          "text": [
            "Downloading https://www.cs.toronto.edu/~kriz/cifar-10-python.tar.gz to cifar10_data/cifar-10-python.tar.gz\n"
          ]
        },
        {
          "output_type": "stream",
          "name": "stderr",
          "text": [
            "100%|██████████| 170498071/170498071 [00:01<00:00, 104890510.77it/s]\n"
          ]
        },
        {
          "output_type": "stream",
          "name": "stdout",
          "text": [
            "Extracting cifar10_data/cifar-10-python.tar.gz to cifar10_data\n",
            "Files already downloaded and verified\n",
            "Datatype of the dataset object: <class 'torchvision.datasets.cifar.CIFAR10'>\n",
            "Number of samples in training data: 50000\n",
            "Number of samples in test data: 10000\n",
            "Format of the dataset: \n",
            " Dataset CIFAR10\n",
            "    Number of datapoints: 50000\n",
            "    Root location: cifar10_data\n",
            "    Split: Train\n",
            "    StandardTransform\n",
            "Transform: Compose(\n",
            "               ToTensor()\n",
            "           )\n"
          ]
        }
      ],
      "source": [
        "# downloading cifar10 into folder\n",
        "data_dir = 'cifar10_data' # make sure that this folder is created in your working dir\n",
        "\n",
        "#TODO: Fill out train_data and test_data variables using CIFAR10 (i.e., torchvision.datasets.CIFAR)\n",
        "train_data = CIFAR10(data_dir, train=True, download=True, transform=Compose([ToTensor()]))\n",
        "test_data = CIFAR10(data_dir, train=False, download=True, transform=Compose([ToTensor()]))\n",
        "\n",
        "#train_data = None\n",
        "#test_data = None\n",
        "\n",
        "print(f'Datatype of the dataset object: {type(train_data)}')\n",
        "# check the length of dataset\n",
        "print(f'Number of samples in training data: {len(train_data)}')\n",
        "print(f'Number of samples in test data: {len(test_data)}')\n",
        "# Check the format of dataset\n",
        "print(f'Format of the dataset: \\n {train_data}')"
      ]
    },
    {
      "cell_type": "markdown",
      "id": "507b2b64",
      "metadata": {
        "id": "507b2b64"
      },
      "source": [
        "### <font size='4'>**Displaying Loaded Dataset**</font>"
      ]
    },
    {
      "cell_type": "code",
      "execution_count": 5,
      "id": "22b496c9",
      "metadata": {
        "colab": {
          "base_uri": "https://localhost:8080/",
          "height": 438
        },
        "id": "22b496c9",
        "outputId": "06d1cd63-cf66-422f-b1f4-fd346b0b31f6"
      },
      "outputs": [
        {
          "output_type": "display_data",
          "data": {
            "text/plain": [
              "<Figure size 640x480 with 6 Axes>"
            ],
            "image/png": "[encoded data removed]"
          },
          "metadata": {}
        }
      ],
      "source": [
        "fig = plt.figure()\n",
        "for i in range(6):\n",
        "  plt.subplot(2, 3, i+1)\n",
        "  plt.tight_layout()\n",
        "  plt.imshow(train_data[i][0][0], cmap='gray', interpolation='none')\n",
        "  plt.title(\"Class Label: {}\".format(train_data[i][1]))\n",
        "  plt.xticks([])\n",
        "  plt.yticks([])"
      ]
    },
    {
      "cell_type": "markdown",
      "id": "f4b11341",
      "metadata": {
        "id": "f4b11341"
      },
      "source": [
        "## <font size='5'>**II) Building a Neural Network**</font>"
      ]
    },
    {
      "cell_type": "markdown",
      "id": "a180f9c7",
      "metadata": {
        "id": "a180f9c7"
      },
      "source": [
        "### <font size='4'>**1) Defining `CIFAR10Classifier` class**</font>"
      ]
    },
    {
      "cell_type": "markdown",
      "id": "003e4e25",
      "metadata": {
        "id": "003e4e25"
      },
      "source": [
        "<font size='4' color='Red'>Task 1.1 - Defining `CIFAR10Classifier` class (4 points)</font>\n",
        "\n",
        "In the following class, make adjustments to the following attributes: flatten, hidden_size, class_size, and linear_relu_stack. Ensure that the linear_relu_stack consists of a minimum of two linear layers combined with a non-linear activation layer."
      ]
    },
    {
      "cell_type": "code",
      "execution_count": 6,
      "id": "bd2c5289",
      "metadata": {
        "id": "bd2c5289"
      },
      "outputs": [],
      "source": [
        "class CIFAR10Classifier(nn.Module):\n",
        "    def __init__(self):\n",
        "        super(CIFAR10Classifier, self).__init__()\n",
        "        ########################################################################\n",
        "        # TODO: Complete the following variables as instructed earlier\n",
        "        ########################################################################\n",
        "        self.flatten = nn.Flatten()\n",
        "        self.hidden_size = 256\n",
        "        self.class_size = 10\n",
        "        self.linear_relu_stack = nn.Sequential(nn.Linear(32*32*3 , self.hidden_size),\n",
        "                                               nn.ReLU(),\n",
        "                                               nn.Linear(self.hidden_size, self.hidden_size),\n",
        "                                               nn.ReLU(),\n",
        "                                               nn.Linear(self.hidden_size, self.class_size))\n",
        "        ########################################################################\n",
        "        #                             END OF YOUR CODE                         #\n",
        "        ########################################################################\n",
        "\n",
        "    def forward(self, x):\n",
        "        x = self.flatten(x)\n",
        "        logits = self.linear_relu_stack(x)\n",
        "        return logits"
      ]
    },
    {
      "cell_type": "markdown",
      "id": "720bfbd5",
      "metadata": {
        "id": "720bfbd5"
      },
      "source": [
        "### <font size='4'>**2) Training a Neural Network**</font>"
      ]
    },
    {
      "cell_type": "markdown",
      "id": "fU8M2hZKKIqf",
      "metadata": {
        "id": "fU8M2hZKKIqf"
      },
      "source": [
        "<font size='4' color='Red'>Task 1.2 - Defining parameters (3 points)</font>"
      ]
    },
    {
      "cell_type": "markdown",
      "id": "nWQyEYmrDSV3",
      "metadata": {
        "id": "nWQyEYmrDSV3"
      },
      "source": [
        "Let's create an instance of `CIFAR10Classifier` and move it to the device. After doing so, we define the following hyperparameters for training:\n",
        "\n",
        "- **Number of Epochs**: This signifies the number of iterations over the dataset.\n",
        "- **Batch Size**: It represents the number of data samples that propagate through the network before parameter updates.\n",
        "- **Learning Rate**: This parameter determines the extent of model parameter updates during each batch/epoch. Smaller values lead to slower learning, while larger values may introduce instability during training.\n",
        "\n",
        "**Your Task**:\n",
        "\n",
        "1. Set `learning_rate` to 1e-3, `batch_size` to 64, and `epochs` to 10 initially. Experiment with different values and retain the final choices that yield the highest testing accuracy.\n",
        "\n",
        "2. Select an appropriate loss function. You should experiment with different options, such as `CrossEntropyLoss()`, `MSELoss()`, and any others, and choose the one that best suits the task.\n",
        "\n",
        "3. Define the `optimizer` variable using any optimizer function (e.g., SGD, Adam, etc.). Be sure to explore different parameter values within the chosen optimizer function.\n",
        "\n",
        "4. Remember to record your ultimate choices for each variable that contribute to achieving the best performance for your `CIFAR10Classifier`. To receive full credit for this assignment, your model should attain a classification accuracy of over 50% on the test set."
      ]
    },
    {
      "cell_type": "code",
      "execution_count": 7,
      "id": "WSTgaNxI9c5f",
      "metadata": {
        "id": "WSTgaNxI9c5f"
      },
      "outputs": [],
      "source": [
        "model = CIFAR10Classifier().to(device)\n",
        "model.requires_grad_(True)\n",
        "\n",
        "import torch.optim as optim\n",
        "########################################################################\n",
        "# TODO: Complete the following variables as instructed earlier\n",
        "########################################################################\n",
        "\n",
        "learning_rate = 1e-4\n",
        "batch_size = 128\n",
        "epochs = 25\n",
        "loss_fn = nn.CrossEntropyLoss()\n",
        "optimizer = optim.Adam(model.parameters(), lr=learning_rate)\n",
        "\n",
        "########################################################################\n",
        "#                             END OF YOUR CODE                         #\n",
        "########################################################################"
      ]
    },
    {
      "cell_type": "markdown",
      "id": "556ce020",
      "metadata": {
        "id": "556ce020"
      },
      "source": [
        "### <font size='4'>**3) Train Loop**</font>"
      ]
    },
    {
      "cell_type": "code",
      "execution_count": 8,
      "id": "0cf5e0b8",
      "metadata": {
        "id": "0cf5e0b8"
      },
      "outputs": [],
      "source": [
        "train_dataloader = DataLoader(train_data, batch_size=batch_size)\n",
        "test_dataloader = DataLoader(test_data, batch_size=batch_size)"
      ]
    },
    {
      "cell_type": "markdown",
      "id": "a43130c9",
      "metadata": {
        "id": "a43130c9"
      },
      "source": [
        "In the above cell, we used a Dataloader to create batches for training and testing data. For each batch of size indicated in the batch_size hyperparameter, we perform backprop and update the model parameters' weights and biases.\n",
        "\n",
        "In the following cell, we define our train_loop."
      ]
    },
    {
      "cell_type": "code",
      "execution_count": 9,
      "id": "fa4eeed5",
      "metadata": {
        "id": "fa4eeed5"
      },
      "outputs": [],
      "source": [
        "def train_loop(dataloader, model, loss_fn, optimizer, print_log=True):\n",
        "    size = len(dataloader.dataset)\n",
        "    correct = 0\n",
        "    training_acc = 0\n",
        "    training_loss = 0\n",
        "    for batch, (X, y) in enumerate(dataloader):\n",
        "        # Compute prediction and loss\n",
        "        pred = model(X.to(device))\n",
        "        loss = loss_fn(pred, y.to(device))\n",
        "        correct += (pred.argmax(1) == y.to(device)).type(torch.float).sum().item()\n",
        "\n",
        "        # Backpropagation\n",
        "        optimizer.zero_grad()\n",
        "        loss.backward()\n",
        "        optimizer.step()\n",
        "        loss, current = loss.item(), batch * len(X)\n",
        "        training_loss = loss\n",
        "        if (print_log==True) and (batch % 100 == 0):\n",
        "            print(f\"\"\"Training loop: loss: {loss:>7f}  [{current:>5d}/{size:>5d}]\"\"\")\n",
        "    correct /= size\n",
        "    training_acc = 100*correct\n",
        "    if (print_log==True):\n",
        "        print(f\"\"\"Training Accuracy: {training_acc:>0.1f}%\"\"\")\n",
        "    return training_acc, training_loss"
      ]
    },
    {
      "cell_type": "markdown",
      "id": "2b6072ee",
      "metadata": {
        "id": "2b6072ee"
      },
      "source": [
        "### <font size='4'>**4) Test Loop**</font>"
      ]
    },
    {
      "cell_type": "markdown",
      "id": "ba22bb45",
      "metadata": {
        "id": "ba22bb45"
      },
      "source": [
        "In the test loop, we iterate over the test dataset to check if model performance is improving."
      ]
    },
    {
      "cell_type": "code",
      "execution_count": 10,
      "id": "a05d6353",
      "metadata": {
        "id": "a05d6353"
      },
      "outputs": [],
      "source": [
        "def test_loop(dataloader, model, loss_fn, print_log=True):\n",
        "    size = len(dataloader.dataset)\n",
        "    num_batches = len(dataloader)\n",
        "    test_loss, correct = 0, 0\n",
        "\n",
        "    with torch.no_grad():\n",
        "        for X, y in dataloader:\n",
        "            pred = model(X.to(device))\n",
        "            test_loss += loss_fn(pred, y.to(device)).item()\n",
        "            correct += (pred.argmax(1) == y.to(device)).type(torch.float).sum().item()\n",
        "\n",
        "    test_loss /= num_batches\n",
        "    correct /= size\n",
        "    testing_acc = 100*correct\n",
        "    if (print_log==True):\n",
        "        print(f\"Testing Accuracy: {testing_acc:>0.1f}%, Avg loss: {test_loss:>8f} \\n\")\n",
        "    return testing_acc, test_loss"
      ]
    },
    {
      "cell_type": "markdown",
      "id": "d10b7c82",
      "metadata": {
        "id": "d10b7c82"
      },
      "source": [
        "### <font size='4'>**5) Running the loops**</font>"
      ]
    },
    {
      "cell_type": "markdown",
      "id": "4245bd36",
      "metadata": {
        "id": "4245bd36"
      },
      "source": [
        "We run our loops for a certain number of times, which is indicated in the 'epoch' hyperparameter that we defined earlier. In the following cell, we run both our training and testing loop to see how our training and testing accuracies change over time."
      ]
    },
    {
      "cell_type": "code",
      "execution_count": 11,
      "id": "836fc7f0",
      "metadata": {
        "colab": {
          "base_uri": "https://localhost:8080/"
        },
        "id": "836fc7f0",
        "outputId": "aafd40de-9e3b-42de-cb85-837338c0dda9"
      },
      "outputs": [
        {
          "output_type": "stream",
          "name": "stdout",
          "text": [
            "Epoch 1\n",
            "-------------------------------\n",
            "Training loop: loss: 2.308289  [    0/50000]\n",
            "Training loop: loss: 2.014953  [12800/50000]\n",
            "Training loop: loss: 1.968092  [25600/50000]\n",
            "Training loop: loss: 1.901729  [38400/50000]\n",
            "Training Accuracy: 29.1%\n",
            "Testing Accuracy: 34.0%, Avg loss: 1.848579 \n",
            "\n",
            "Epoch 2\n",
            "-------------------------------\n",
            "Training loop: loss: 1.845133  [    0/50000]\n",
            "Training loop: loss: 1.712843  [12800/50000]\n",
            "Training loop: loss: 1.849746  [25600/50000]\n",
            "Training loop: loss: 1.795677  [38400/50000]\n",
            "Training Accuracy: 36.7%\n",
            "Testing Accuracy: 38.3%, Avg loss: 1.743674 \n",
            "\n",
            "Epoch 3\n",
            "-------------------------------\n",
            "Training loop: loss: 1.707713  [    0/50000]\n",
            "Training loop: loss: 1.629696  [12800/50000]\n",
            "Training loop: loss: 1.779466  [25600/50000]\n",
            "Training loop: loss: 1.734562  [38400/50000]\n",
            "Training Accuracy: 39.5%\n",
            "Testing Accuracy: 40.7%, Avg loss: 1.680979 \n",
            "\n",
            "Epoch 4\n",
            "-------------------------------\n",
            "Training loop: loss: 1.648332  [    0/50000]\n",
            "Training loop: loss: 1.568942  [12800/50000]\n",
            "Training loop: loss: 1.724319  [25600/50000]\n",
            "Training loop: loss: 1.686714  [38400/50000]\n",
            "Training Accuracy: 41.4%\n",
            "Testing Accuracy: 42.0%, Avg loss: 1.639264 \n",
            "\n",
            "Epoch 5\n",
            "-------------------------------\n",
            "Training loop: loss: 1.607576  [    0/50000]\n",
            "Training loop: loss: 1.521797  [12800/50000]\n",
            "Training loop: loss: 1.686958  [25600/50000]\n",
            "Training loop: loss: 1.647484  [38400/50000]\n",
            "Training Accuracy: 43.0%\n",
            "Testing Accuracy: 43.1%, Avg loss: 1.607732 \n",
            "\n",
            "Epoch 6\n",
            "-------------------------------\n",
            "Training loop: loss: 1.563430  [    0/50000]\n",
            "Training loop: loss: 1.490752  [12800/50000]\n",
            "Training loop: loss: 1.647694  [25600/50000]\n",
            "Training loop: loss: 1.615650  [38400/50000]\n",
            "Training Accuracy: 44.4%\n",
            "Testing Accuracy: 43.8%, Avg loss: 1.584154 \n",
            "\n",
            "Epoch 7\n",
            "-------------------------------\n",
            "Training loop: loss: 1.531890  [    0/50000]\n",
            "Training loop: loss: 1.459773  [12800/50000]\n",
            "Training loop: loss: 1.617887  [25600/50000]\n",
            "Training loop: loss: 1.581887  [38400/50000]\n",
            "Training Accuracy: 45.5%\n",
            "Testing Accuracy: 44.9%, Avg loss: 1.557809 \n",
            "\n",
            "Epoch 8\n",
            "-------------------------------\n",
            "Training loop: loss: 1.495312  [    0/50000]\n",
            "Training loop: loss: 1.430032  [12800/50000]\n",
            "Training loop: loss: 1.588625  [25600/50000]\n",
            "Training loop: loss: 1.553838  [38400/50000]\n",
            "Training Accuracy: 46.4%\n",
            "Testing Accuracy: 45.6%, Avg loss: 1.537686 \n",
            "\n",
            "Epoch 9\n",
            "-------------------------------\n",
            "Training loop: loss: 1.471480  [    0/50000]\n",
            "Training loop: loss: 1.409700  [12800/50000]\n",
            "Training loop: loss: 1.558205  [25600/50000]\n",
            "Training loop: loss: 1.521599  [38400/50000]\n",
            "Training Accuracy: 47.3%\n",
            "Testing Accuracy: 46.6%, Avg loss: 1.518711 \n",
            "\n",
            "Epoch 10\n",
            "-------------------------------\n",
            "Training loop: loss: 1.450675  [    0/50000]\n",
            "Training loop: loss: 1.382760  [12800/50000]\n",
            "Training loop: loss: 1.529495  [25600/50000]\n",
            "Training loop: loss: 1.495827  [38400/50000]\n",
            "Training Accuracy: 48.0%\n",
            "Testing Accuracy: 47.2%, Avg loss: 1.502263 \n",
            "\n",
            "Epoch 11\n",
            "-------------------------------\n",
            "Training loop: loss: 1.430303  [    0/50000]\n",
            "Training loop: loss: 1.362800  [12800/50000]\n",
            "Training loop: loss: 1.500944  [25600/50000]\n",
            "Training loop: loss: 1.468194  [38400/50000]\n",
            "Training Accuracy: 48.8%\n",
            "Testing Accuracy: 47.6%, Avg loss: 1.485326 \n",
            "\n",
            "Epoch 12\n",
            "-------------------------------\n",
            "Training loop: loss: 1.419543  [    0/50000]\n",
            "Training loop: loss: 1.344819  [12800/50000]\n",
            "Training loop: loss: 1.477813  [25600/50000]\n",
            "Training loop: loss: 1.442319  [38400/50000]\n",
            "Training Accuracy: 49.5%\n",
            "Testing Accuracy: 48.0%, Avg loss: 1.471824 \n",
            "\n",
            "Epoch 13\n",
            "-------------------------------\n",
            "Training loop: loss: 1.406412  [    0/50000]\n",
            "Training loop: loss: 1.323527  [12800/50000]\n",
            "Training loop: loss: 1.451626  [25600/50000]\n",
            "Training loop: loss: 1.413978  [38400/50000]\n",
            "Training Accuracy: 50.1%\n",
            "Testing Accuracy: 48.5%, Avg loss: 1.458776 \n",
            "\n",
            "Epoch 14\n",
            "-------------------------------\n",
            "Training loop: loss: 1.392906  [    0/50000]\n",
            "Training loop: loss: 1.303409  [12800/50000]\n",
            "Training loop: loss: 1.427069  [25600/50000]\n",
            "Training loop: loss: 1.392116  [38400/50000]\n",
            "Training Accuracy: 50.7%\n",
            "Testing Accuracy: 48.9%, Avg loss: 1.447992 \n",
            "\n",
            "Epoch 15\n",
            "-------------------------------\n",
            "Training loop: loss: 1.381589  [    0/50000]\n",
            "Training loop: loss: 1.285655  [12800/50000]\n",
            "Training loop: loss: 1.405263  [25600/50000]\n",
            "Training loop: loss: 1.370960  [38400/50000]\n",
            "Training Accuracy: 51.3%\n",
            "Testing Accuracy: 49.5%, Avg loss: 1.436706 \n",
            "\n",
            "Epoch 16\n",
            "-------------------------------\n",
            "Training loop: loss: 1.368904  [    0/50000]\n",
            "Training loop: loss: 1.268420  [12800/50000]\n",
            "Training loop: loss: 1.389307  [25600/50000]\n",
            "Training loop: loss: 1.350622  [38400/50000]\n",
            "Training Accuracy: 51.8%\n",
            "Testing Accuracy: 49.9%, Avg loss: 1.425953 \n",
            "\n",
            "Epoch 17\n",
            "-------------------------------\n",
            "Training loop: loss: 1.355685  [    0/50000]\n",
            "Training loop: loss: 1.254229  [12800/50000]\n",
            "Training loop: loss: 1.371794  [25600/50000]\n",
            "Training loop: loss: 1.338079  [38400/50000]\n",
            "Training Accuracy: 52.3%\n",
            "Testing Accuracy: 49.9%, Avg loss: 1.417684 \n",
            "\n",
            "Epoch 18\n",
            "-------------------------------\n",
            "Training loop: loss: 1.350144  [    0/50000]\n",
            "Training loop: loss: 1.240589  [12800/50000]\n",
            "Training loop: loss: 1.356820  [25600/50000]\n",
            "Training loop: loss: 1.317396  [38400/50000]\n",
            "Training Accuracy: 52.7%\n",
            "Testing Accuracy: 50.4%, Avg loss: 1.408515 \n",
            "\n",
            "Epoch 19\n",
            "-------------------------------\n",
            "Training loop: loss: 1.337711  [    0/50000]\n",
            "Training loop: loss: 1.229512  [12800/50000]\n",
            "Training loop: loss: 1.337587  [25600/50000]\n",
            "Training loop: loss: 1.304973  [38400/50000]\n",
            "Training Accuracy: 53.3%\n",
            "Testing Accuracy: 50.6%, Avg loss: 1.400153 \n",
            "\n",
            "Epoch 20\n",
            "-------------------------------\n",
            "Training loop: loss: 1.323812  [    0/50000]\n",
            "Training loop: loss: 1.214447  [12800/50000]\n",
            "Training loop: loss: 1.324185  [25600/50000]\n",
            "Training loop: loss: 1.292290  [38400/50000]\n",
            "Training Accuracy: 53.8%\n",
            "Testing Accuracy: 50.9%, Avg loss: 1.391947 \n",
            "\n",
            "Epoch 21\n",
            "-------------------------------\n",
            "Training loop: loss: 1.313010  [    0/50000]\n",
            "Training loop: loss: 1.203445  [12800/50000]\n",
            "Training loop: loss: 1.312916  [25600/50000]\n",
            "Training loop: loss: 1.277668  [38400/50000]\n",
            "Training Accuracy: 54.2%\n",
            "Testing Accuracy: 51.2%, Avg loss: 1.386431 \n",
            "\n",
            "Epoch 22\n",
            "-------------------------------\n",
            "Training loop: loss: 1.305998  [    0/50000]\n",
            "Training loop: loss: 1.186486  [12800/50000]\n",
            "Training loop: loss: 1.299032  [25600/50000]\n",
            "Training loop: loss: 1.259453  [38400/50000]\n",
            "Training Accuracy: 54.5%\n",
            "Testing Accuracy: 51.4%, Avg loss: 1.380447 \n",
            "\n",
            "Epoch 23\n",
            "-------------------------------\n",
            "Training loop: loss: 1.291469  [    0/50000]\n",
            "Training loop: loss: 1.177368  [12800/50000]\n",
            "Training loop: loss: 1.286018  [25600/50000]\n",
            "Training loop: loss: 1.248460  [38400/50000]\n",
            "Training Accuracy: 55.0%\n",
            "Testing Accuracy: 51.5%, Avg loss: 1.374193 \n",
            "\n",
            "Epoch 24\n",
            "-------------------------------\n",
            "Training loop: loss: 1.276786  [    0/50000]\n",
            "Training loop: loss: 1.167346  [12800/50000]\n",
            "Training loop: loss: 1.278422  [25600/50000]\n",
            "Training loop: loss: 1.237980  [38400/50000]\n",
            "Training Accuracy: 55.3%\n",
            "Testing Accuracy: 51.8%, Avg loss: 1.369544 \n",
            "\n",
            "Epoch 25\n",
            "-------------------------------\n",
            "Training loop: loss: 1.267374  [    0/50000]\n",
            "Training loop: loss: 1.156873  [12800/50000]\n",
            "Training loop: loss: 1.264904  [25600/50000]\n",
            "Training loop: loss: 1.224298  [38400/50000]\n",
            "Training Accuracy: 55.7%\n",
            "Testing Accuracy: 52.0%, Avg loss: 1.364334 \n",
            "\n",
            "Done!\n"
          ]
        }
      ],
      "source": [
        "for t in range(epochs):\n",
        "    print(f\"Epoch {t+1}\\n-------------------------------\")\n",
        "    train_loop(train_dataloader, model, loss_fn, optimizer)\n",
        "    test_loop(test_dataloader, model, loss_fn)\n",
        "print(\"Done!\")"
      ]
    },
    {
      "cell_type": "markdown",
      "id": "9d2ca7b1",
      "metadata": {
        "id": "9d2ca7b1"
      },
      "source": [
        "## <font size='5'>**III) Fine Tuning Hyperparameters**</font>"
      ]
    },
    {
      "cell_type": "markdown",
      "id": "vtmexjmGFYTR",
      "metadata": {
        "id": "vtmexjmGFYTR"
      },
      "source": [
        "Adjusting the hyperparameters and gaining a deeper understanding of how they impact the ultimate performance is a substantial aspect of working with neural networks. Therefore, we encourage you to gain practical experience in this regard."
      ]
    },
    {
      "cell_type": "markdown",
      "id": "7f79ae32",
      "metadata": {
        "id": "7f79ae32"
      },
      "source": [
        "In this task, your goal is to play around with different settings for various options like layer size, batch size, learning rate. You should also experiment with optimizer hyperparameters including momentum, weight decay and more.\n",
        "\n",
        "To understand how these choices affect your model's performance, you'll create at least three graphs. Each graph will show how changing one of these options (except for epochs) impacts how well your model learns and predicts."
      ]
    },
    {
      "cell_type": "markdown",
      "id": "x719wW9FIynX",
      "metadata": {
        "id": "x719wW9FIynX"
      },
      "source": [
        "## <font size='4'>**Example** - We've given you an example code for changing number of epochs so you can see how it's done.</font>"
      ]
    },
    {
      "cell_type": "code",
      "execution_count": 12,
      "id": "olcxRr7T8bpj",
      "metadata": {
        "colab": {
          "base_uri": "https://localhost:8080/",
          "height": 1000
        },
        "id": "olcxRr7T8bpj",
        "outputId": "ae1dd68b-eb9b-40db-a231-53bbde41b6f5"
      },
      "outputs": [
        {
          "output_type": "stream",
          "name": "stdout",
          "text": [
            "Currently running epoch 1\n",
            "Currently running epoch 1\n",
            "Currently running epoch 2\n",
            "Currently running epoch 3\n",
            "Currently running epoch 4\n",
            "Currently running epoch 5\n",
            "Currently running epoch 1\n",
            "Currently running epoch 2\n",
            "Currently running epoch 3\n",
            "Currently running epoch 4\n",
            "Currently running epoch 5\n",
            "Currently running epoch 6\n",
            "Currently running epoch 7\n",
            "Currently running epoch 8\n",
            "Currently running epoch 9\n",
            "Currently running epoch 10\n",
            "Currently running epoch 1\n",
            "Currently running epoch 2\n",
            "Currently running epoch 3\n",
            "Currently running epoch 4\n",
            "Currently running epoch 5\n",
            "Currently running epoch 6\n",
            "Currently running epoch 7\n",
            "Currently running epoch 8\n",
            "Currently running epoch 9\n",
            "Currently running epoch 10\n",
            "Currently running epoch 11\n",
            "Currently running epoch 12\n",
            "Currently running epoch 13\n",
            "Currently running epoch 14\n",
            "Currently running epoch 15\n",
            "Currently running epoch 1\n",
            "Currently running epoch 2\n",
            "Currently running epoch 3\n",
            "Currently running epoch 4\n",
            "Currently running epoch 5\n",
            "Currently running epoch 6\n",
            "Currently running epoch 7\n",
            "Currently running epoch 8\n",
            "Currently running epoch 9\n",
            "Currently running epoch 10\n",
            "Currently running epoch 11\n",
            "Currently running epoch 12\n",
            "Currently running epoch 13\n",
            "Currently running epoch 14\n",
            "Currently running epoch 15\n",
            "Currently running epoch 16\n",
            "Currently running epoch 17\n",
            "Currently running epoch 18\n",
            "Currently running epoch 19\n",
            "Currently running epoch 20\n",
            "Currently running epoch 1\n",
            "Currently running epoch 2\n",
            "Currently running epoch 3\n",
            "Currently running epoch 4\n",
            "Currently running epoch 5\n",
            "Currently running epoch 6\n",
            "Currently running epoch 7\n",
            "Currently running epoch 8\n",
            "Currently running epoch 9\n",
            "Currently running epoch 10\n",
            "Currently running epoch 11\n",
            "Currently running epoch 12\n",
            "Currently running epoch 13\n",
            "Currently running epoch 14\n",
            "Currently running epoch 15\n",
            "Currently running epoch 16\n",
            "Currently running epoch 17\n",
            "Currently running epoch 18\n",
            "Currently running epoch 19\n",
            "Currently running epoch 20\n",
            "Currently running epoch 21\n",
            "Currently running epoch 22\n",
            "Currently running epoch 23\n",
            "Currently running epoch 24\n",
            "Currently running epoch 25\n",
            "Done!\n"
          ]
        },
        {
          "output_type": "display_data",
          "data": {
            "text/plain": [
              "<Figure size 640x480 with 1 Axes>"
            ],
            "image/png": "[encoded data removed]"
          },
          "metadata": {}
        }
      ],
      "source": [
        "learning_rate = 1e-4\n",
        "batch_size = 128\n",
        "epochs = [1, 5, 10, 15, 20, 25]\n",
        "momentum = 0\n",
        "weight_decay = 0\n",
        "dampening = 0\n",
        "\n",
        "# Train and Test\n",
        "test_accs = []\n",
        "test_losses = []\n",
        "training_accs = []\n",
        "for e in epochs: #Would change this to reflect whatever hyperparameter you would be testing\n",
        "    # Model\n",
        "    model = CIFAR10Classifier().to(device)\n",
        "    model.requires_grad_(True)\n",
        "    # Optimizer\n",
        "    optimizer = torch.optim.Adam(model.parameters(),\n",
        "                            lr = learning_rate,\n",
        "                            # momentum = momentum,\n",
        "                            weight_decay = weight_decay,\n",
        "                            # dampening= dampening\n",
        "                                 )\n",
        "    # Loss Func\n",
        "    loss_fn = nn.CrossEntropyLoss()\n",
        "    # Dataloaders\n",
        "    train_dataloader = DataLoader(train_data, batch_size=batch_size)\n",
        "    test_dataloader = DataLoader(test_data, batch_size=batch_size)\n",
        "    final_train_acc = 0\n",
        "    final_test_acc = 0\n",
        "    final_test_loss = 0\n",
        "    for t in range(e):\n",
        "        print(f\"Currently running epoch {t+1}\")\n",
        "        training_acc = train_loop(train_dataloader, model, loss_fn, optimizer, print_log=False)\n",
        "        testing_acc, test_loss =  test_loop(test_dataloader, model, loss_fn, print_log=False)\n",
        "        final_test_acc = testing_acc\n",
        "        final_test_loss = test_loss\n",
        "        final_train_acc = training_acc\n",
        "    test_accs.append(final_test_acc)\n",
        "    test_losses.append(final_test_loss)\n",
        "    training_accs.append(final_train_acc)\n",
        "plt.plot(epochs,test_losses, color ='tab:red', label='testing loss')\n",
        "plt.plot(epochs,test_accs, color ='tab:blue', label='testing accuracy')\n",
        "plt.plot(epochs,training_accs, color ='tab:green', label='training accuracy')\n",
        "plt.legend()\n",
        "print(\"Done!\")\n"
      ]
    },
    {
      "cell_type": "code",
      "source": [
        "final_test_acc"
      ],
      "metadata": {
        "colab": {
          "base_uri": "https://localhost:8080/"
        },
        "id": "Fmo6AognrzNP",
        "outputId": "41a075cf-491b-4cb3-c944-dba04e12b559"
      },
      "id": "Fmo6AognrzNP",
      "execution_count": 13,
      "outputs": [
        {
          "output_type": "execute_result",
          "data": {
            "text/plain": [
              "51.51"
            ]
          },
          "metadata": {},
          "execution_count": 13
        }
      ]
    },
    {
      "cell_type": "markdown",
      "id": "w7Zi1npqHU7B",
      "metadata": {
        "id": "w7Zi1npqHU7B"
      },
      "source": [
        "<font size='4' color='Red'>Task 1.3 - Experiment 1 (2 point)</font>"
      ]
    },
    {
      "cell_type": "markdown",
      "id": "cd5IJznoH60y",
      "metadata": {
        "id": "cd5IJznoH60y"
      },
      "source": [
        "$$\\text{I am tuning learning rate hyperparameter for better performance}$$"
      ]
    },
    {
      "cell_type": "code",
      "execution_count": 18,
      "id": "9Fkd6usOHP0c",
      "metadata": {
        "id": "9Fkd6usOHP0c",
        "colab": {
          "base_uri": "https://localhost:8080/",
          "height": 1000
        },
        "outputId": "5a2f70f9-9f06-4c3d-cb05-382fe5970aef"
      },
      "outputs": [
        {
          "output_type": "stream",
          "name": "stdout",
          "text": [
            "Currently running epoch 1\n",
            "Currently running epoch 2\n",
            "Currently running epoch 3\n",
            "Currently running epoch 4\n",
            "Currently running epoch 5\n",
            "Currently running epoch 6\n",
            "Currently running epoch 7\n",
            "Currently running epoch 8\n",
            "Currently running epoch 9\n",
            "Currently running epoch 10\n",
            "Currently running epoch 11\n",
            "Currently running epoch 12\n",
            "Currently running epoch 13\n",
            "Currently running epoch 14\n",
            "Currently running epoch 15\n",
            "Currently running epoch 16\n",
            "Currently running epoch 17\n",
            "Currently running epoch 18\n",
            "Currently running epoch 19\n",
            "Currently running epoch 20\n",
            "Currently running epoch 21\n",
            "Currently running epoch 22\n",
            "Currently running epoch 23\n",
            "Currently running epoch 24\n",
            "Currently running epoch 25\n",
            "Currently running epoch 1\n",
            "Currently running epoch 2\n",
            "Currently running epoch 3\n",
            "Currently running epoch 4\n",
            "Currently running epoch 5\n",
            "Currently running epoch 6\n",
            "Currently running epoch 7\n",
            "Currently running epoch 8\n",
            "Currently running epoch 9\n",
            "Currently running epoch 10\n",
            "Currently running epoch 11\n",
            "Currently running epoch 12\n",
            "Currently running epoch 13\n",
            "Currently running epoch 14\n",
            "Currently running epoch 15\n",
            "Currently running epoch 16\n",
            "Currently running epoch 17\n",
            "Currently running epoch 18\n",
            "Currently running epoch 19\n",
            "Currently running epoch 20\n",
            "Currently running epoch 21\n",
            "Currently running epoch 22\n",
            "Currently running epoch 23\n",
            "Currently running epoch 24\n",
            "Currently running epoch 25\n",
            "Currently running epoch 1\n",
            "Currently running epoch 2\n",
            "Currently running epoch 3\n",
            "Currently running epoch 4\n",
            "Currently running epoch 5\n",
            "Currently running epoch 6\n",
            "Currently running epoch 7\n",
            "Currently running epoch 8\n",
            "Currently running epoch 9\n",
            "Currently running epoch 10\n",
            "Currently running epoch 11\n",
            "Currently running epoch 12\n",
            "Currently running epoch 13\n",
            "Currently running epoch 14\n",
            "Currently running epoch 15\n",
            "Currently running epoch 16\n",
            "Currently running epoch 17\n",
            "Currently running epoch 18\n",
            "Currently running epoch 19\n",
            "Currently running epoch 20\n",
            "Currently running epoch 21\n",
            "Currently running epoch 22\n",
            "Currently running epoch 23\n",
            "Currently running epoch 24\n",
            "Currently running epoch 25\n",
            "Done!\n"
          ]
        },
        {
          "output_type": "error",
          "ename": "NotImplementedError",
          "evalue": "ignored",
          "traceback": [
            "\u001b[0;31m---------------------------------------------------------------------------\u001b[0m",
            "\u001b[0;31mNotImplementedError\u001b[0m                       Traceback (most recent call last)",
            "\u001b[0;32m<ipython-input-18-f373ae35c441>\u001b[0m in \u001b[0;36m<cell line: 51>\u001b[0;34m()\u001b[0m\n\u001b[1;32m     49\u001b[0m \u001b[0mprint\u001b[0m\u001b[0;34m(\u001b[0m\u001b[0;34m\"Done!\"\u001b[0m\u001b[0;34m)\u001b[0m\u001b[0;34m\u001b[0m\u001b[0;34m\u001b[0m\u001b[0m\n\u001b[1;32m     50\u001b[0m \u001b[0;34m\u001b[0m\u001b[0m\n\u001b[0;32m---> 51\u001b[0;31m \u001b[0;32mraise\u001b[0m \u001b[0mNotImplementedError\u001b[0m\u001b[0;34m\u001b[0m\u001b[0;34m\u001b[0m\u001b[0m\n\u001b[0m\u001b[1;32m     52\u001b[0m \u001b[0;31m############################################################################\u001b[0m\u001b[0;34m\u001b[0m\u001b[0;34m\u001b[0m\u001b[0m\n\u001b[1;32m     53\u001b[0m \u001b[0;31m#                             END OF YOUR CODE                             #\u001b[0m\u001b[0;34m\u001b[0m\u001b[0;34m\u001b[0m\u001b[0m\n",
            "\u001b[0;31mNotImplementedError\u001b[0m: "
          ]
        },
        {
          "output_type": "display_data",
          "data": {
            "text/plain": [
              "<Figure size 640x480 with 1 Axes>"
            ],
            "image/png": "[encoded data removed]"
          },
          "metadata": {}
        }
      ],
      "source": [
        "############################################################################\n",
        "# TODO: Implement your code here\n",
        "############################################################################\n",
        "\n",
        "learning_rate = [1e-3, 1e-4, 1e-6]\n",
        "batch_size = 128\n",
        "epochs = 25\n",
        "momentum = 0\n",
        "weight_decay =0\n",
        "dampening = 0\n",
        "\n",
        "# Train and Test\n",
        "test_accs = []\n",
        "test_losses = []\n",
        "training_accs = []\n",
        "for lr in learning_rate: #Would change this to reflect whatever hyperparameter you would be testing\n",
        "    # Model\n",
        "    model = CIFAR10Classifier().to(device)\n",
        "    model.requires_grad_(True)\n",
        "    # Optimizer\n",
        "    optimizer = torch.optim.Adam(model.parameters(),\n",
        "                            lr = lr,\n",
        "                            # momentum = momentum,\n",
        "                            weight_decay = weight_decay,\n",
        "                            # dampening= dampening\n",
        "                                 )\n",
        "    # Loss Func\n",
        "    loss_fn = nn.CrossEntropyLoss()\n",
        "    # Dataloaders\n",
        "    train_dataloader = DataLoader(train_data, batch_size=batch_size)\n",
        "    test_dataloader = DataLoader(test_data, batch_size=batch_size)\n",
        "    final_train_acc = 0\n",
        "    final_test_acc = 0\n",
        "    final_test_loss = 0\n",
        "    for t in range(epochs):\n",
        "        print(f\"Currently running epoch {t+1}\")\n",
        "        training_acc = train_loop(train_dataloader, model, loss_fn, optimizer, print_log=False)\n",
        "        testing_acc, test_loss =  test_loop(test_dataloader, model, loss_fn, print_log=False)\n",
        "        final_test_acc = testing_acc\n",
        "        final_test_loss = test_loss\n",
        "        final_train_acc = training_acc\n",
        "    test_accs.append(final_test_acc)\n",
        "    test_losses.append(final_test_loss)\n",
        "    training_accs.append(final_train_acc)\n",
        "plt.plot(learning_rate,test_losses, color ='tab:red', label='testing loss')\n",
        "plt.plot(learning_rate,test_accs, color ='tab:blue', label='testing accuracy')\n",
        "plt.plot(learning_rate,training_accs, color ='tab:green', label='training accuracy')\n",
        "plt.legend()\n",
        "print(\"Done!\")\n",
        "\n",
        "############################################################################\n",
        "#                             END OF YOUR CODE                             #\n",
        "############################################################################"
      ]
    },
    {
      "cell_type": "code",
      "source": [
        "test_accs"
      ],
      "metadata": {
        "colab": {
          "base_uri": "https://localhost:8080/"
        },
        "id": "QDyAg9KTw6YV",
        "outputId": "2a7d918e-af68-4024-83b4-795432385655"
      },
      "id": "QDyAg9KTw6YV",
      "execution_count": 20,
      "outputs": [
        {
          "output_type": "execute_result",
          "data": {
            "text/plain": [
              "[48.02, 51.88, 31.59]"
            ]
          },
          "metadata": {},
          "execution_count": 20
        }
      ]
    },
    {
      "cell_type": "markdown",
      "id": "qnsKis_dLoGW",
      "metadata": {
        "id": "qnsKis_dLoGW"
      },
      "source": []
    },
    {
      "cell_type": "markdown",
      "id": "bCXoR1dtIVqE",
      "metadata": {
        "id": "bCXoR1dtIVqE"
      },
      "source": [
        "<font size='4' color='Red'>Task 1.3 - Experiment 2 (2 point)</font>"
      ]
    },
    {
      "cell_type": "markdown",
      "id": "NBR25sGzIaqE",
      "metadata": {
        "id": "NBR25sGzIaqE"
      },
      "source": [
        "$$\\text{I am tuning batch size hyperparameter for better performance}$$"
      ]
    },
    {
      "cell_type": "code",
      "execution_count": 24,
      "id": "7Xm_gZhsIaqP",
      "metadata": {
        "id": "7Xm_gZhsIaqP",
        "colab": {
          "base_uri": "https://localhost:8080/",
          "height": 1000
        },
        "outputId": "97d30bda-c2d5-4a83-92ef-b88ac21d6412"
      },
      "outputs": [
        {
          "output_type": "stream",
          "name": "stdout",
          "text": [
            "Currently running epoch 1\n",
            "Currently running epoch 2\n",
            "Currently running epoch 3\n",
            "Currently running epoch 4\n",
            "Currently running epoch 5\n",
            "Currently running epoch 6\n",
            "Currently running epoch 7\n",
            "Currently running epoch 8\n",
            "Currently running epoch 9\n",
            "Currently running epoch 10\n",
            "Currently running epoch 11\n",
            "Currently running epoch 12\n",
            "Currently running epoch 13\n",
            "Currently running epoch 14\n",
            "Currently running epoch 15\n",
            "Currently running epoch 16\n",
            "Currently running epoch 17\n",
            "Currently running epoch 18\n",
            "Currently running epoch 19\n",
            "Currently running epoch 20\n",
            "Currently running epoch 21\n",
            "Currently running epoch 22\n",
            "Currently running epoch 23\n",
            "Currently running epoch 24\n",
            "Currently running epoch 25\n",
            "Currently running epoch 1\n",
            "Currently running epoch 2\n",
            "Currently running epoch 3\n",
            "Currently running epoch 4\n",
            "Currently running epoch 5\n",
            "Currently running epoch 6\n",
            "Currently running epoch 7\n",
            "Currently running epoch 8\n",
            "Currently running epoch 9\n",
            "Currently running epoch 10\n",
            "Currently running epoch 11\n",
            "Currently running epoch 12\n",
            "Currently running epoch 13\n",
            "Currently running epoch 14\n",
            "Currently running epoch 15\n",
            "Currently running epoch 16\n",
            "Currently running epoch 17\n",
            "Currently running epoch 18\n",
            "Currently running epoch 19\n",
            "Currently running epoch 20\n",
            "Currently running epoch 21\n",
            "Currently running epoch 22\n",
            "Currently running epoch 23\n",
            "Currently running epoch 24\n",
            "Currently running epoch 25\n",
            "Currently running epoch 1\n",
            "Currently running epoch 2\n",
            "Currently running epoch 3\n",
            "Currently running epoch 4\n",
            "Currently running epoch 5\n",
            "Currently running epoch 6\n",
            "Currently running epoch 7\n",
            "Currently running epoch 8\n",
            "Currently running epoch 9\n",
            "Currently running epoch 10\n",
            "Currently running epoch 11\n",
            "Currently running epoch 12\n",
            "Currently running epoch 13\n",
            "Currently running epoch 14\n",
            "Currently running epoch 15\n",
            "Currently running epoch 16\n",
            "Currently running epoch 17\n",
            "Currently running epoch 18\n",
            "Currently running epoch 19\n",
            "Currently running epoch 20\n",
            "Currently running epoch 21\n",
            "Currently running epoch 22\n",
            "Currently running epoch 23\n",
            "Currently running epoch 24\n",
            "Currently running epoch 25\n",
            "Done!\n"
          ]
        },
        {
          "output_type": "display_data",
          "data": {
            "text/plain": [
              "<Figure size 640x480 with 1 Axes>"
            ],
            "image/png": "[encoded data removed]"
          },
          "metadata": {}
        }
      ],
      "source": [
        "############################################################################\n",
        "# TODO: Implement your code here\n",
        "############################################################################\n",
        "learning_rate =  1e-4\n",
        "batch_sizes = [128, 256, 512]\n",
        "epochs = 25\n",
        "momentum = 0\n",
        "weight_decay =0\n",
        "dampening = 0\n",
        "\n",
        "# Train and Test\n",
        "test_accs = []\n",
        "test_losses = []\n",
        "training_accs = []\n",
        "for batch_size in batch_sizes: #Would change this to reflect whatever hyperparameter you would be testing\n",
        "    # Model\n",
        "    model = CIFAR10Classifier().to(device)\n",
        "    model.requires_grad_(True)\n",
        "    # Optimizer\n",
        "    optimizer = torch.optim.Adam(model.parameters(),\n",
        "                            lr = lr,\n",
        "                            # momentum = momentum,\n",
        "                            weight_decay = weight_decay,\n",
        "                            # dampening= dampening\n",
        "                                 )\n",
        "    # Loss Func\n",
        "    loss_fn = nn.CrossEntropyLoss()\n",
        "    # Dataloaders\n",
        "    train_dataloader = DataLoader(train_data, batch_size=batch_size)\n",
        "    test_dataloader = DataLoader(test_data, batch_size=batch_size)\n",
        "    final_train_acc = 0\n",
        "    final_test_acc = 0\n",
        "    final_test_loss = 0\n",
        "    for t in range(epochs):\n",
        "        print(f\"Currently running epoch {t+1}\")\n",
        "        training_acc = train_loop(train_dataloader, model, loss_fn, optimizer, print_log=False)\n",
        "        testing_acc, test_loss =  test_loop(test_dataloader, model, loss_fn, print_log=False)\n",
        "        final_test_acc = testing_acc\n",
        "        final_test_loss = test_loss\n",
        "        final_train_acc = training_acc\n",
        "    test_accs.append(final_test_acc)\n",
        "    test_losses.append(final_test_loss)\n",
        "    training_accs.append(final_train_acc)\n",
        "plt.plot(batch_sizes,test_losses, color ='tab:red', label='testing loss')\n",
        "plt.plot(batch_sizes,test_accs, color ='tab:blue', label='testing accuracy')\n",
        "plt.plot(batch_sizes,training_accs, color ='tab:green', label='training accuracy')\n",
        "plt.legend()\n",
        "print(\"Done!\")\n",
        "\n",
        "############################################################################\n",
        "#                             END OF YOUR CODE                             #\n",
        "############################################################################"
      ]
    },
    {
      "cell_type": "code",
      "source": [
        "test_accs"
      ],
      "metadata": {
        "colab": {
          "base_uri": "https://localhost:8080/"
        },
        "id": "fI7ks0q27NUm",
        "outputId": "464d0643-e417-4ff8-bb32-fa5773112f61"
      },
      "id": "fI7ks0q27NUm",
      "execution_count": 25,
      "outputs": [
        {
          "output_type": "execute_result",
          "data": {
            "text/plain": [
              "[31.36, 29.89, 26.169999999999998]"
            ]
          },
          "metadata": {},
          "execution_count": 25
        }
      ]
    },
    {
      "cell_type": "markdown",
      "id": "RXVjjad0IhZs",
      "metadata": {
        "id": "RXVjjad0IhZs"
      },
      "source": [
        "<font size='4' color='Red'>Task 1.4 - Experiment 3 (2 point)</font>"
      ]
    },
    {
      "cell_type": "markdown",
      "id": "6NZyqrBXIhZs",
      "metadata": {
        "id": "6NZyqrBXIhZs"
      },
      "source": [
        "$$\\text{I am tuning ______________ hyperparameter for better performance}$$"
      ]
    },
    {
      "cell_type": "code",
      "execution_count": 26,
      "id": "XytrrMb3IhZs",
      "metadata": {
        "id": "XytrrMb3IhZs",
        "colab": {
          "base_uri": "https://localhost:8080/",
          "height": 1000
        },
        "outputId": "1b1b556c-0926-4422-b9ab-a5620d79e210"
      },
      "outputs": [
        {
          "output_type": "stream",
          "name": "stdout",
          "text": [
            "Currently running epoch 1\n",
            "Currently running epoch 2\n",
            "Currently running epoch 3\n",
            "Currently running epoch 4\n",
            "Currently running epoch 5\n",
            "Currently running epoch 6\n",
            "Currently running epoch 7\n",
            "Currently running epoch 8\n",
            "Currently running epoch 9\n",
            "Currently running epoch 10\n",
            "Currently running epoch 11\n",
            "Currently running epoch 12\n",
            "Currently running epoch 13\n",
            "Currently running epoch 14\n",
            "Currently running epoch 15\n",
            "Currently running epoch 16\n",
            "Currently running epoch 17\n",
            "Currently running epoch 18\n",
            "Currently running epoch 19\n",
            "Currently running epoch 20\n",
            "Currently running epoch 21\n",
            "Currently running epoch 22\n",
            "Currently running epoch 23\n",
            "Currently running epoch 24\n",
            "Currently running epoch 25\n",
            "Currently running epoch 1\n",
            "Currently running epoch 2\n",
            "Currently running epoch 3\n",
            "Currently running epoch 4\n",
            "Currently running epoch 5\n",
            "Currently running epoch 6\n",
            "Currently running epoch 7\n",
            "Currently running epoch 8\n",
            "Currently running epoch 9\n",
            "Currently running epoch 10\n",
            "Currently running epoch 11\n",
            "Currently running epoch 12\n",
            "Currently running epoch 13\n",
            "Currently running epoch 14\n",
            "Currently running epoch 15\n",
            "Currently running epoch 16\n",
            "Currently running epoch 17\n",
            "Currently running epoch 18\n",
            "Currently running epoch 19\n",
            "Currently running epoch 20\n",
            "Currently running epoch 21\n",
            "Currently running epoch 22\n",
            "Currently running epoch 23\n",
            "Currently running epoch 24\n",
            "Currently running epoch 25\n",
            "Currently running epoch 1\n",
            "Currently running epoch 2\n",
            "Currently running epoch 3\n",
            "Currently running epoch 4\n",
            "Currently running epoch 5\n",
            "Currently running epoch 6\n",
            "Currently running epoch 7\n",
            "Currently running epoch 8\n",
            "Currently running epoch 9\n",
            "Currently running epoch 10\n",
            "Currently running epoch 11\n",
            "Currently running epoch 12\n",
            "Currently running epoch 13\n",
            "Currently running epoch 14\n",
            "Currently running epoch 15\n",
            "Currently running epoch 16\n",
            "Currently running epoch 17\n",
            "Currently running epoch 18\n",
            "Currently running epoch 19\n",
            "Currently running epoch 20\n",
            "Currently running epoch 21\n",
            "Currently running epoch 22\n",
            "Currently running epoch 23\n",
            "Currently running epoch 24\n",
            "Currently running epoch 25\n",
            "Done!\n"
          ]
        },
        {
          "output_type": "display_data",
          "data": {
            "text/plain": [
              "<Figure size 640x480 with 1 Axes>"
            ],
            "image/png": "[encoded data removed]"
          },
          "metadata": {}
        }
      ],
      "source": [
        "############################################################################\n",
        "# TODO: Implement your code here\n",
        "############################################################################\n",
        "learning_rate =  1e-4\n",
        "batch_sizes = 128\n",
        "epochs = 25\n",
        "momentum_vals = [0.1, 0.5, 0.9]\n",
        "weight_decay =0\n",
        "dampening = 0\n",
        "\n",
        "# Train and Test\n",
        "test_accs = []\n",
        "test_losses = []\n",
        "training_accs = []\n",
        "for momentum in momentum_vals: #Would change this to reflect whatever hyperparameter you would be testing\n",
        "    # Model\n",
        "    model = CIFAR10Classifier().to(device)\n",
        "    model.requires_grad_(True)\n",
        "    # Optimizer\n",
        "    optimizer = torch.optim.SGD(model.parameters(),\n",
        "                            lr = lr,\n",
        "                            momentum = momentum,\n",
        "                            weight_decay = weight_decay,\n",
        "                            dampening= dampening\n",
        "                                 )\n",
        "    # Loss Func\n",
        "    loss_fn = nn.CrossEntropyLoss()\n",
        "    # Dataloaders\n",
        "    train_dataloader = DataLoader(train_data, batch_size=batch_size)\n",
        "    test_dataloader = DataLoader(test_data, batch_size=batch_size)\n",
        "    final_train_acc = 0\n",
        "    final_test_acc = 0\n",
        "    final_test_loss = 0\n",
        "    for t in range(epochs):\n",
        "        print(f\"Currently running epoch {t+1}\")\n",
        "        training_acc = train_loop(train_dataloader, model, loss_fn, optimizer, print_log=False)\n",
        "        testing_acc, test_loss =  test_loop(test_dataloader, model, loss_fn, print_log=False)\n",
        "        final_test_acc = testing_acc\n",
        "        final_test_loss = test_loss\n",
        "        final_train_acc = training_acc\n",
        "    test_accs.append(final_test_acc)\n",
        "    test_losses.append(final_test_loss)\n",
        "    training_accs.append(final_train_acc)\n",
        "plt.plot(momentum_vals,test_losses, color ='tab:red', label='testing loss')\n",
        "plt.plot(momentum_vals,test_accs, color ='tab:blue', label='testing accuracy')\n",
        "plt.plot(momentum_vals,training_accs, color ='tab:green', label='training accuracy')\n",
        "plt.legend()\n",
        "print(\"Done!\")\n",
        "\n",
        "\n",
        "############################################################################\n",
        "#                             END OF YOUR CODE                             #\n",
        "############################################################################"
      ]
    }
  ],
  "metadata": {
    "accelerator": "GPU",
    "colab": {
      "gpuType": "T4",
      "provenance": []
    },
    "kernelspec": {
      "display_name": "Python 3 (ipykernel)",
      "language": "python",
      "name": "python3"
    },
    "language_info": {
      "codemirror_mode": {
        "name": "ipython",
        "version": 3
      },
      "file_extension": ".py",
      "mimetype": "text/x-python",
      "name": "python",
      "nbconvert_exporter": "python",
      "pygments_lexer": "ipython3",
      "version": "3.10.6"
    }
  },
  "nbformat": 4,
  "nbformat_minor": 5
}
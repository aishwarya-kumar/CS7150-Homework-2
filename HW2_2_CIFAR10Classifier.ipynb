{
  "cells": [
    {
      "cell_type": "markdown",
      "metadata": {
        "id": "view-in-github",
        "colab_type": "text"
      },
      "source": [
        "<a href=\"https://colab.research.google.com/github/aishwarya-kumar/CS7150-Homework-2/blob/main/HW2_2_CIFAR10Classifier.ipynb\" target=\"_parent\"><img src=\"https://colab.research.google.com/assets/colab-badge.svg\" alt=\"Open In Colab\"/></a>"
      ]
    },
    {
      "cell_type": "markdown",
      "id": "0ff28b42",
      "metadata": {
        "id": "0ff28b42"
      },
      "source": [
        "This can be run [run on Google Colab using this link](https://colab.research.google.com/github/CS7150/CS7150-Homework-2/blob/main/HW2_2_CIFAR10Classifier.ipynb)\n",
        "\n",
        "<font size='6'>**Homework 2.2: Neural Network CIFAR-10 Classification**</font>"
      ]
    },
    {
      "cell_type": "markdown",
      "id": "0ef1d8e6",
      "metadata": {
        "id": "0ef1d8e6"
      },
      "source": [
        "<font size='5'>**Overview**</font>\n",
        "\n",
        "In this CS7150 assignment, our objective is to build a neural network featuring two fully-connected layers designed for classification purposes. We will evaluate the performance of this neural network by testing it on the CIFAR-10 dataset.\n",
        "\n",
        "This assignment adheres to a standard classification setup, which encompasses the use of a dataloader to load labeled image data in a natural form and training the model in a minibatch-based fashion.\n",
        "\n",
        "**Your assignment**: Your responsibility throughout this notebook is to thoroughly review the content and address all the conceptual and technical questions identified within the sections marked with \"Task\" headers and \"TODO:\" comments in the code."
      ]
    },
    {
      "cell_type": "markdown",
      "id": "ih2KqUX1Aj1G",
      "metadata": {
        "id": "ih2KqUX1Aj1G"
      },
      "source": [
        "<font size='5'>**I) Setup**</font>"
      ]
    },
    {
      "cell_type": "code",
      "execution_count": 1,
      "id": "1bGxnahJAlmm",
      "metadata": {
        "id": "1bGxnahJAlmm"
      },
      "outputs": [],
      "source": [
        "import os\n",
        "import torch\n",
        "from torch import nn\n",
        "from torchvision.datasets import CIFAR10\n",
        "from torchvision.transforms import Compose, ToTensor\n",
        "from torch.utils.data import DataLoader\n",
        "import matplotlib.pyplot as plt"
      ]
    },
    {
      "cell_type": "markdown",
      "id": "075f340c",
      "metadata": {
        "id": "075f340c"
      },
      "source": [
        "<font size='4'>**Device Setup**</font>"
      ]
    },
    {
      "cell_type": "markdown",
      "id": "33798935",
      "metadata": {
        "id": "33798935"
      },
      "source": [
        "\n",
        "We aim to enable model training on a GPU to expedite our computations. First, we'll check whether torch.cuda is accessible; if it is, we will utilize the GPU; otherwise, we will continue to using the CPU."
      ]
    },
    {
      "cell_type": "code",
      "execution_count": 2,
      "id": "c9a41951",
      "metadata": {
        "colab": {
          "base_uri": "https://localhost:8080/"
        },
        "id": "c9a41951",
        "outputId": "96064179-bf12-49cc-92d6-083569cbe8dd"
      },
      "outputs": [
        {
          "output_type": "stream",
          "name": "stdout",
          "text": [
            "Using cuda device\n"
          ]
        }
      ],
      "source": [
        "device = \"cuda\" if torch.cuda.is_available() else \"cpu\"\n",
        "print(f\"Using {device} device\")"
      ]
    },
    {
      "cell_type": "markdown",
      "id": "2d6db073",
      "metadata": {
        "id": "2d6db073"
      },
      "source": [
        "<font size='4'>**Loading CIFAR-10 Data**</font>"
      ]
    },
    {
      "cell_type": "markdown",
      "id": "af842fd2",
      "metadata": {
        "id": "af842fd2"
      },
      "source": [
        "The CIFAR-10 dataset comprises a collection of 60,000 32x32 color images distributed across ten distinct classes. These classes correspond to various objects and include airplanes, cars, birds, cats, deer, dogs, frogs, horses, ships, and trucks. Within each class, there are precisely 6,000 images."
      ]
    },
    {
      "cell_type": "code",
      "execution_count": 3,
      "id": "0c9c37c7",
      "metadata": {
        "colab": {
          "base_uri": "https://localhost:8080/"
        },
        "id": "0c9c37c7",
        "outputId": "abc28bd9-32ae-4fd6-b2cf-2d7a9292acf4"
      },
      "outputs": [
        {
          "output_type": "stream",
          "name": "stdout",
          "text": [
            "Downloading https://www.cs.toronto.edu/~kriz/cifar-10-python.tar.gz to cifar10_data/cifar-10-python.tar.gz\n"
          ]
        },
        {
          "output_type": "stream",
          "name": "stderr",
          "text": [
            "100%|██████████| 170498071/170498071 [00:03<00:00, 44625249.64it/s]\n"
          ]
        },
        {
          "output_type": "stream",
          "name": "stdout",
          "text": [
            "Extracting cifar10_data/cifar-10-python.tar.gz to cifar10_data\n",
            "Files already downloaded and verified\n",
            "Datatype of the dataset object: <class 'torchvision.datasets.cifar.CIFAR10'>\n",
            "Number of samples in training data: 50000\n",
            "Number of samples in test data: 10000\n",
            "Format of the dataset: \n",
            " Dataset CIFAR10\n",
            "    Number of datapoints: 50000\n",
            "    Root location: cifar10_data\n",
            "    Split: Train\n",
            "    StandardTransform\n",
            "Transform: Compose(\n",
            "               ToTensor()\n",
            "           )\n"
          ]
        }
      ],
      "source": [
        "# downloading cifar10 into folder\n",
        "data_dir = 'cifar10_data' # make sure that this folder is created in your working dir\n",
        "\n",
        "#TODO: Fill out train_data and test_data variables using CIFAR10 (i.e., torchvision.datasets.CIFAR)\n",
        "train_data = CIFAR10(data_dir, train=True, download=True, transform=Compose([ToTensor()]))\n",
        "test_data = CIFAR10(data_dir, train=False, download=True, transform=Compose([ToTensor()]))\n",
        "\n",
        "#train_data = None\n",
        "#test_data = None\n",
        "\n",
        "print(f'Datatype of the dataset object: {type(train_data)}')\n",
        "# check the length of dataset\n",
        "print(f'Number of samples in training data: {len(train_data)}')\n",
        "print(f'Number of samples in test data: {len(test_data)}')\n",
        "# Check the format of dataset\n",
        "print(f'Format of the dataset: \\n {train_data}')"
      ]
    },
    {
      "cell_type": "markdown",
      "id": "507b2b64",
      "metadata": {
        "id": "507b2b64"
      },
      "source": [
        "### <font size='4'>**Displaying Loaded Dataset**</font>"
      ]
    },
    {
      "cell_type": "code",
      "execution_count": 4,
      "id": "22b496c9",
      "metadata": {
        "colab": {
          "base_uri": "https://localhost:8080/",
          "height": 438
        },
        "id": "22b496c9",
        "outputId": "b62e81b6-bb80-4aaf-861c-1dcb4c564ebe"
      },
      "outputs": [
        {
          "output_type": "display_data",
          "data": {
            "text/plain": [
              "<Figure size 640x480 with 6 Axes>"
            ],
            "image/png": "[encoded data removed]"
          },
          "metadata": {}
        }
      ],
      "source": [
        "fig = plt.figure()\n",
        "for i in range(6):\n",
        "  plt.subplot(2, 3, i+1)\n",
        "  plt.tight_layout()\n",
        "  plt.imshow(train_data[i][0][0], cmap='gray', interpolation='none')\n",
        "  plt.title(\"Class Label: {}\".format(train_data[i][1]))\n",
        "  plt.xticks([])\n",
        "  plt.yticks([])"
      ]
    },
    {
      "cell_type": "markdown",
      "id": "f4b11341",
      "metadata": {
        "id": "f4b11341"
      },
      "source": [
        "## <font size='5'>**II) Building a Neural Network**</font>"
      ]
    },
    {
      "cell_type": "markdown",
      "id": "a180f9c7",
      "metadata": {
        "id": "a180f9c7"
      },
      "source": [
        "### <font size='4'>**1) Defining `CIFAR10Classifier` class**</font>"
      ]
    },
    {
      "cell_type": "markdown",
      "id": "003e4e25",
      "metadata": {
        "id": "003e4e25"
      },
      "source": [
        "<font size='4' color='Red'>Task 1.1 - Defining `CIFAR10Classifier` class (4 points)</font>\n",
        "\n",
        "In the following class, make adjustments to the following attributes: flatten, hidden_size, class_size, and linear_relu_stack. Ensure that the linear_relu_stack consists of a minimum of two linear layers combined with a non-linear activation layer."
      ]
    },
    {
      "cell_type": "code",
      "execution_count": 5,
      "id": "bd2c5289",
      "metadata": {
        "id": "bd2c5289"
      },
      "outputs": [],
      "source": [
        "class CIFAR10Classifier(nn.Module):\n",
        "    def __init__(self):\n",
        "        super(CIFAR10Classifier, self).__init__()\n",
        "        ########################################################################\n",
        "        # TODO: Complete the following variables as instructed earlier\n",
        "        ########################################################################\n",
        "        self.flatten = nn.Flatten()\n",
        "        self.hidden_size = 256\n",
        "        self.class_size = 10\n",
        "        self.linear_relu_stack = nn.Sequential(nn.Linear(32*32*3 , self.hidden_size),\n",
        "                                               nn.ReLU(),\n",
        "                                               nn.Linear(self.hidden_size, self.hidden_size),\n",
        "                                               nn.ReLU(),\n",
        "                                               nn.Linear(self.hidden_size, self.class_size))\n",
        "        ########################################################################\n",
        "        #                             END OF YOUR CODE                         #\n",
        "        ########################################################################\n",
        "\n",
        "    def forward(self, x):\n",
        "        x = self.flatten(x)\n",
        "        logits = self.linear_relu_stack(x)\n",
        "        return logits"
      ]
    },
    {
      "cell_type": "markdown",
      "id": "720bfbd5",
      "metadata": {
        "id": "720bfbd5"
      },
      "source": [
        "### <font size='4'>**2) Training a Neural Network**</font>"
      ]
    },
    {
      "cell_type": "markdown",
      "id": "fU8M2hZKKIqf",
      "metadata": {
        "id": "fU8M2hZKKIqf"
      },
      "source": [
        "<font size='4' color='Red'>Task 1.2 - Defining parameters (3 points)</font>"
      ]
    },
    {
      "cell_type": "markdown",
      "id": "nWQyEYmrDSV3",
      "metadata": {
        "id": "nWQyEYmrDSV3"
      },
      "source": [
        "Let's create an instance of `CIFAR10Classifier` and move it to the device. After doing so, we define the following hyperparameters for training:\n",
        "\n",
        "- **Number of Epochs**: This signifies the number of iterations over the dataset.\n",
        "- **Batch Size**: It represents the number of data samples that propagate through the network before parameter updates.\n",
        "- **Learning Rate**: This parameter determines the extent of model parameter updates during each batch/epoch. Smaller values lead to slower learning, while larger values may introduce instability during training.\n",
        "\n",
        "**Your Task**:\n",
        "\n",
        "1. Set `learning_rate` to 1e-3, `batch_size` to 64, and `epochs` to 10 initially. Experiment with different values and retain the final choices that yield the highest testing accuracy.\n",
        "\n",
        "2. Select an appropriate loss function. You should experiment with different options, such as `CrossEntropyLoss()`, `MSELoss()`, and any others, and choose the one that best suits the task.\n",
        "\n",
        "3. Define the `optimizer` variable using any optimizer function (e.g., SGD, Adam, etc.). Be sure to explore different parameter values within the chosen optimizer function.\n",
        "\n",
        "4. Remember to record your ultimate choices for each variable that contribute to achieving the best performance for your `CIFAR10Classifier`. To receive full credit for this assignment, your model should attain a classification accuracy of over 50% on the test set."
      ]
    },
    {
      "cell_type": "code",
      "execution_count": 6,
      "id": "WSTgaNxI9c5f",
      "metadata": {
        "id": "WSTgaNxI9c5f"
      },
      "outputs": [],
      "source": [
        "model = CIFAR10Classifier().to(device)\n",
        "model.requires_grad_(True)\n",
        "\n",
        "import torch.optim as optim\n",
        "########################################################################\n",
        "# TODO: Complete the following variables as instructed earlier\n",
        "########################################################################\n",
        "\n",
        "learning_rate = 1e-4\n",
        "batch_size = 128\n",
        "epochs = 25\n",
        "loss_fn = nn.CrossEntropyLoss()\n",
        "optimizer = optim.Adam(model.parameters(), lr=learning_rate)\n",
        "\n",
        "########################################################################\n",
        "#                             END OF YOUR CODE                         #\n",
        "########################################################################"
      ]
    },
    {
      "cell_type": "markdown",
      "id": "556ce020",
      "metadata": {
        "id": "556ce020"
      },
      "source": [
        "### <font size='4'>**3) Train Loop**</font>"
      ]
    },
    {
      "cell_type": "code",
      "execution_count": 7,
      "id": "0cf5e0b8",
      "metadata": {
        "id": "0cf5e0b8"
      },
      "outputs": [],
      "source": [
        "train_dataloader = DataLoader(train_data, batch_size=batch_size)\n",
        "test_dataloader = DataLoader(test_data, batch_size=batch_size)"
      ]
    },
    {
      "cell_type": "markdown",
      "id": "a43130c9",
      "metadata": {
        "id": "a43130c9"
      },
      "source": [
        "In the above cell, we used a Dataloader to create batches for training and testing data. For each batch of size indicated in the batch_size hyperparameter, we perform backprop and update the model parameters' weights and biases.\n",
        "\n",
        "In the following cell, we define our train_loop."
      ]
    },
    {
      "cell_type": "code",
      "execution_count": 8,
      "id": "fa4eeed5",
      "metadata": {
        "id": "fa4eeed5"
      },
      "outputs": [],
      "source": [
        "def train_loop(dataloader, model, loss_fn, optimizer, print_log=True):\n",
        "    size = len(dataloader.dataset)\n",
        "    correct = 0\n",
        "    training_acc = 0\n",
        "    training_loss = 0\n",
        "    for batch, (X, y) in enumerate(dataloader):\n",
        "        # Compute prediction and loss\n",
        "        pred = model(X.to(device))\n",
        "        loss = loss_fn(pred, y.to(device))\n",
        "        correct += (pred.argmax(1) == y.to(device)).type(torch.float).sum().item()\n",
        "\n",
        "        # Backpropagation\n",
        "        optimizer.zero_grad()\n",
        "        loss.backward()\n",
        "        optimizer.step()\n",
        "        loss, current = loss.item(), batch * len(X)\n",
        "        training_loss = loss\n",
        "        if (print_log==True) and (batch % 100 == 0):\n",
        "            print(f\"\"\"Training loop: loss: {loss:>7f}  [{current:>5d}/{size:>5d}]\"\"\")\n",
        "    correct /= size\n",
        "    training_acc = 100*correct\n",
        "    if (print_log==True):\n",
        "        print(f\"\"\"Training Accuracy: {training_acc:>0.1f}%\"\"\")\n",
        "    return training_acc, training_loss"
      ]
    },
    {
      "cell_type": "markdown",
      "id": "2b6072ee",
      "metadata": {
        "id": "2b6072ee"
      },
      "source": [
        "### <font size='4'>**4) Test Loop**</font>"
      ]
    },
    {
      "cell_type": "markdown",
      "id": "ba22bb45",
      "metadata": {
        "id": "ba22bb45"
      },
      "source": [
        "In the test loop, we iterate over the test dataset to check if model performance is improving."
      ]
    },
    {
      "cell_type": "code",
      "execution_count": 9,
      "id": "a05d6353",
      "metadata": {
        "id": "a05d6353"
      },
      "outputs": [],
      "source": [
        "def test_loop(dataloader, model, loss_fn, print_log=True):\n",
        "    size = len(dataloader.dataset)\n",
        "    num_batches = len(dataloader)\n",
        "    test_loss, correct = 0, 0\n",
        "\n",
        "    with torch.no_grad():\n",
        "        for X, y in dataloader:\n",
        "            pred = model(X.to(device))\n",
        "            test_loss += loss_fn(pred, y.to(device)).item()\n",
        "            correct += (pred.argmax(1) == y.to(device)).type(torch.float).sum().item()\n",
        "\n",
        "    test_loss /= num_batches\n",
        "    correct /= size\n",
        "    testing_acc = 100*correct\n",
        "    if (print_log==True):\n",
        "        print(f\"Testing Accuracy: {testing_acc:>0.1f}%, Avg loss: {test_loss:>8f} \\n\")\n",
        "    return testing_acc, test_loss"
      ]
    },
    {
      "cell_type": "markdown",
      "id": "d10b7c82",
      "metadata": {
        "id": "d10b7c82"
      },
      "source": [
        "### <font size='4'>**5) Running the loops**</font>"
      ]
    },
    {
      "cell_type": "markdown",
      "id": "4245bd36",
      "metadata": {
        "id": "4245bd36"
      },
      "source": [
        "We run our loops for a certain number of times, which is indicated in the 'epoch' hyperparameter that we defined earlier. In the following cell, we run both our training and testing loop to see how our training and testing accuracies change over time."
      ]
    },
    {
      "cell_type": "code",
      "execution_count": 10,
      "id": "836fc7f0",
      "metadata": {
        "colab": {
          "base_uri": "https://localhost:8080/"
        },
        "id": "836fc7f0",
        "outputId": "a683e5f7-485d-4908-c126-490bc4c5d939"
      },
      "outputs": [
        {
          "output_type": "stream",
          "name": "stdout",
          "text": [
            "Epoch 1\n",
            "-------------------------------\n",
            "Training loop: loss: 2.316642  [    0/50000]\n",
            "Training loop: loss: 2.003967  [12800/50000]\n",
            "Training loop: loss: 1.961667  [25600/50000]\n",
            "Training loop: loss: 1.922922  [38400/50000]\n",
            "Training Accuracy: 28.8%\n",
            "Testing Accuracy: 33.9%, Avg loss: 1.855825 \n",
            "\n",
            "Epoch 2\n",
            "-------------------------------\n",
            "Training loop: loss: 1.849142  [    0/50000]\n",
            "Training loop: loss: 1.720942  [12800/50000]\n",
            "Training loop: loss: 1.865784  [25600/50000]\n",
            "Training loop: loss: 1.820473  [38400/50000]\n",
            "Training Accuracy: 36.2%\n",
            "Testing Accuracy: 38.2%, Avg loss: 1.749560 \n",
            "\n",
            "Epoch 3\n",
            "-------------------------------\n",
            "Training loop: loss: 1.710500  [    0/50000]\n",
            "Training loop: loss: 1.639479  [12800/50000]\n",
            "Training loop: loss: 1.793243  [25600/50000]\n",
            "Training loop: loss: 1.756286  [38400/50000]\n",
            "Training Accuracy: 39.3%\n",
            "Testing Accuracy: 40.6%, Avg loss: 1.684288 \n",
            "\n",
            "Epoch 4\n",
            "-------------------------------\n",
            "Training loop: loss: 1.642625  [    0/50000]\n",
            "Training loop: loss: 1.588126  [12800/50000]\n",
            "Training loop: loss: 1.737552  [25600/50000]\n",
            "Training loop: loss: 1.709854  [38400/50000]\n",
            "Training Accuracy: 41.4%\n",
            "Testing Accuracy: 42.0%, Avg loss: 1.640748 \n",
            "\n",
            "Epoch 5\n",
            "-------------------------------\n",
            "Training loop: loss: 1.591715  [    0/50000]\n",
            "Training loop: loss: 1.550584  [12800/50000]\n",
            "Training loop: loss: 1.698613  [25600/50000]\n",
            "Training loop: loss: 1.676798  [38400/50000]\n",
            "Training Accuracy: 42.8%\n",
            "Testing Accuracy: 43.4%, Avg loss: 1.606432 \n",
            "\n",
            "Epoch 6\n",
            "-------------------------------\n",
            "Training loop: loss: 1.552327  [    0/50000]\n",
            "Training loop: loss: 1.518695  [12800/50000]\n",
            "Training loop: loss: 1.664210  [25600/50000]\n",
            "Training loop: loss: 1.646499  [38400/50000]\n",
            "Training Accuracy: 44.3%\n",
            "Testing Accuracy: 44.5%, Avg loss: 1.576155 \n",
            "\n",
            "Epoch 7\n",
            "-------------------------------\n",
            "Training loop: loss: 1.521276  [    0/50000]\n",
            "Training loop: loss: 1.488057  [12800/50000]\n",
            "Training loop: loss: 1.638121  [25600/50000]\n",
            "Training loop: loss: 1.616349  [38400/50000]\n",
            "Training Accuracy: 45.3%\n",
            "Testing Accuracy: 45.5%, Avg loss: 1.552413 \n",
            "\n",
            "Epoch 8\n",
            "-------------------------------\n",
            "Training loop: loss: 1.493152  [    0/50000]\n",
            "Training loop: loss: 1.461994  [12800/50000]\n",
            "Training loop: loss: 1.608483  [25600/50000]\n",
            "Training loop: loss: 1.590777  [38400/50000]\n",
            "Training Accuracy: 46.2%\n",
            "Testing Accuracy: 46.2%, Avg loss: 1.532397 \n",
            "\n",
            "Epoch 9\n",
            "-------------------------------\n",
            "Training loop: loss: 1.469426  [    0/50000]\n",
            "Training loop: loss: 1.434325  [12800/50000]\n",
            "Training loop: loss: 1.576300  [25600/50000]\n",
            "Training loop: loss: 1.568858  [38400/50000]\n",
            "Training Accuracy: 47.1%\n",
            "Testing Accuracy: 46.8%, Avg loss: 1.513881 \n",
            "\n",
            "Epoch 10\n",
            "-------------------------------\n",
            "Training loop: loss: 1.449781  [    0/50000]\n",
            "Training loop: loss: 1.409320  [12800/50000]\n",
            "Training loop: loss: 1.561469  [25600/50000]\n",
            "Training loop: loss: 1.543857  [38400/50000]\n",
            "Training Accuracy: 47.7%\n",
            "Testing Accuracy: 47.6%, Avg loss: 1.497048 \n",
            "\n",
            "Epoch 11\n",
            "-------------------------------\n",
            "Training loop: loss: 1.427886  [    0/50000]\n",
            "Training loop: loss: 1.386732  [12800/50000]\n",
            "Training loop: loss: 1.536603  [25600/50000]\n",
            "Training loop: loss: 1.520536  [38400/50000]\n",
            "Training Accuracy: 48.4%\n",
            "Testing Accuracy: 47.9%, Avg loss: 1.483126 \n",
            "\n",
            "Epoch 12\n",
            "-------------------------------\n",
            "Training loop: loss: 1.409774  [    0/50000]\n",
            "Training loop: loss: 1.368380  [12800/50000]\n",
            "Training loop: loss: 1.517601  [25600/50000]\n",
            "Training loop: loss: 1.499442  [38400/50000]\n",
            "Training Accuracy: 48.9%\n",
            "Testing Accuracy: 48.3%, Avg loss: 1.469120 \n",
            "\n",
            "Epoch 13\n",
            "-------------------------------\n",
            "Training loop: loss: 1.393701  [    0/50000]\n",
            "Training loop: loss: 1.348946  [12800/50000]\n",
            "Training loop: loss: 1.495725  [25600/50000]\n",
            "Training loop: loss: 1.481150  [38400/50000]\n",
            "Training Accuracy: 49.5%\n",
            "Testing Accuracy: 48.7%, Avg loss: 1.457222 \n",
            "\n",
            "Epoch 14\n",
            "-------------------------------\n",
            "Training loop: loss: 1.378384  [    0/50000]\n",
            "Training loop: loss: 1.332179  [12800/50000]\n",
            "Training loop: loss: 1.484905  [25600/50000]\n",
            "Training loop: loss: 1.462326  [38400/50000]\n",
            "Training Accuracy: 50.0%\n",
            "Testing Accuracy: 49.0%, Avg loss: 1.447125 \n",
            "\n",
            "Epoch 15\n",
            "-------------------------------\n",
            "Training loop: loss: 1.363947  [    0/50000]\n",
            "Training loop: loss: 1.313375  [12800/50000]\n",
            "Training loop: loss: 1.463073  [25600/50000]\n",
            "Training loop: loss: 1.447406  [38400/50000]\n",
            "Training Accuracy: 50.5%\n",
            "Testing Accuracy: 49.2%, Avg loss: 1.438215 \n",
            "\n",
            "Epoch 16\n",
            "-------------------------------\n",
            "Training loop: loss: 1.352977  [    0/50000]\n",
            "Training loop: loss: 1.294598  [12800/50000]\n",
            "Training loop: loss: 1.447232  [25600/50000]\n",
            "Training loop: loss: 1.436610  [38400/50000]\n",
            "Training Accuracy: 51.0%\n",
            "Testing Accuracy: 49.5%, Avg loss: 1.429596 \n",
            "\n",
            "Epoch 17\n",
            "-------------------------------\n",
            "Training loop: loss: 1.336567  [    0/50000]\n",
            "Training loop: loss: 1.277419  [12800/50000]\n",
            "Training loop: loss: 1.431636  [25600/50000]\n",
            "Training loop: loss: 1.424796  [38400/50000]\n",
            "Training Accuracy: 51.5%\n",
            "Testing Accuracy: 49.9%, Avg loss: 1.423089 \n",
            "\n",
            "Epoch 18\n",
            "-------------------------------\n",
            "Training loop: loss: 1.324991  [    0/50000]\n",
            "Training loop: loss: 1.265546  [12800/50000]\n",
            "Training loop: loss: 1.413778  [25600/50000]\n",
            "Training loop: loss: 1.411937  [38400/50000]\n",
            "Training Accuracy: 52.0%\n",
            "Testing Accuracy: 50.1%, Avg loss: 1.416509 \n",
            "\n",
            "Epoch 19\n",
            "-------------------------------\n",
            "Training loop: loss: 1.316291  [    0/50000]\n",
            "Training loop: loss: 1.253315  [12800/50000]\n",
            "Training loop: loss: 1.401195  [25600/50000]\n",
            "Training loop: loss: 1.402048  [38400/50000]\n",
            "Training Accuracy: 52.5%\n",
            "Testing Accuracy: 50.3%, Avg loss: 1.411591 \n",
            "\n",
            "Epoch 20\n",
            "-------------------------------\n",
            "Training loop: loss: 1.306265  [    0/50000]\n",
            "Training loop: loss: 1.244813  [12800/50000]\n",
            "Training loop: loss: 1.385215  [25600/50000]\n",
            "Training loop: loss: 1.391808  [38400/50000]\n",
            "Training Accuracy: 52.8%\n",
            "Testing Accuracy: 50.3%, Avg loss: 1.404629 \n",
            "\n",
            "Epoch 21\n",
            "-------------------------------\n",
            "Training loop: loss: 1.291993  [    0/50000]\n",
            "Training loop: loss: 1.234930  [12800/50000]\n",
            "Training loop: loss: 1.373424  [25600/50000]\n",
            "Training loop: loss: 1.381449  [38400/50000]\n",
            "Training Accuracy: 53.3%\n",
            "Testing Accuracy: 50.5%, Avg loss: 1.399467 \n",
            "\n",
            "Epoch 22\n",
            "-------------------------------\n",
            "Training loop: loss: 1.279306  [    0/50000]\n",
            "Training loop: loss: 1.229589  [12800/50000]\n",
            "Training loop: loss: 1.360844  [25600/50000]\n",
            "Training loop: loss: 1.364045  [38400/50000]\n",
            "Training Accuracy: 53.8%\n",
            "Testing Accuracy: 50.8%, Avg loss: 1.393526 \n",
            "\n",
            "Epoch 23\n",
            "-------------------------------\n",
            "Training loop: loss: 1.264858  [    0/50000]\n",
            "Training loop: loss: 1.220903  [12800/50000]\n",
            "Training loop: loss: 1.348008  [25600/50000]\n",
            "Training loop: loss: 1.350355  [38400/50000]\n",
            "Training Accuracy: 54.2%\n",
            "Testing Accuracy: 50.7%, Avg loss: 1.388573 \n",
            "\n",
            "Epoch 24\n",
            "-------------------------------\n",
            "Training loop: loss: 1.256828  [    0/50000]\n",
            "Training loop: loss: 1.214186  [12800/50000]\n",
            "Training loop: loss: 1.338680  [25600/50000]\n",
            "Training loop: loss: 1.338308  [38400/50000]\n",
            "Training Accuracy: 54.5%\n",
            "Testing Accuracy: 50.8%, Avg loss: 1.383990 \n",
            "\n",
            "Epoch 25\n",
            "-------------------------------\n",
            "Training loop: loss: 1.238708  [    0/50000]\n",
            "Training loop: loss: 1.209245  [12800/50000]\n",
            "Training loop: loss: 1.326877  [25600/50000]\n",
            "Training loop: loss: 1.331147  [38400/50000]\n",
            "Training Accuracy: 54.9%\n",
            "Testing Accuracy: 51.0%, Avg loss: 1.379462 \n",
            "\n",
            "Done!\n"
          ]
        }
      ],
      "source": [
        "for t in range(epochs):\n",
        "    print(f\"Epoch {t+1}\\n-------------------------------\")\n",
        "    train_loop(train_dataloader, model, loss_fn, optimizer)\n",
        "    test_loop(test_dataloader, model, loss_fn)\n",
        "print(\"Done!\")"
      ]
    },
    {
      "cell_type": "markdown",
      "id": "9d2ca7b1",
      "metadata": {
        "id": "9d2ca7b1"
      },
      "source": [
        "## <font size='5'>**III) Fine Tuning Hyperparameters**</font>"
      ]
    },
    {
      "cell_type": "markdown",
      "id": "vtmexjmGFYTR",
      "metadata": {
        "id": "vtmexjmGFYTR"
      },
      "source": [
        "Adjusting the hyperparameters and gaining a deeper understanding of how they impact the ultimate performance is a substantial aspect of working with neural networks. Therefore, we encourage you to gain practical experience in this regard."
      ]
    },
    {
      "cell_type": "markdown",
      "id": "7f79ae32",
      "metadata": {
        "id": "7f79ae32"
      },
      "source": [
        "In this task, your goal is to play around with different settings for various options like layer size, batch size, learning rate. You should also experiment with optimizer hyperparameters including momentum, weight decay and more.\n",
        "\n",
        "To understand how these choices affect your model's performance, you'll create at least three graphs. Each graph will show how changing one of these options (except for epochs) impacts how well your model learns and predicts."
      ]
    },
    {
      "cell_type": "markdown",
      "id": "x719wW9FIynX",
      "metadata": {
        "id": "x719wW9FIynX"
      },
      "source": [
        "## <font size='4'>**Example** - We've given you an example code for changing number of epochs so you can see how it's done.</font>"
      ]
    },
    {
      "cell_type": "code",
      "execution_count": 11,
      "id": "olcxRr7T8bpj",
      "metadata": {
        "colab": {
          "base_uri": "https://localhost:8080/",
          "height": 1000
        },
        "id": "olcxRr7T8bpj",
        "outputId": "bde63f86-2244-4ef0-95bc-b522ba52af1f"
      },
      "outputs": [
        {
          "output_type": "stream",
          "name": "stdout",
          "text": [
            "Currently running epoch 1\n",
            "Currently running epoch 1\n",
            "Currently running epoch 2\n",
            "Currently running epoch 3\n",
            "Currently running epoch 4\n",
            "Currently running epoch 5\n",
            "Currently running epoch 1\n",
            "Currently running epoch 2\n",
            "Currently running epoch 3\n",
            "Currently running epoch 4\n",
            "Currently running epoch 5\n",
            "Currently running epoch 6\n",
            "Currently running epoch 7\n",
            "Currently running epoch 8\n",
            "Currently running epoch 9\n",
            "Currently running epoch 10\n",
            "Currently running epoch 1\n",
            "Currently running epoch 2\n",
            "Currently running epoch 3\n",
            "Currently running epoch 4\n",
            "Currently running epoch 5\n",
            "Currently running epoch 6\n",
            "Currently running epoch 7\n",
            "Currently running epoch 8\n",
            "Currently running epoch 9\n",
            "Currently running epoch 10\n",
            "Currently running epoch 11\n",
            "Currently running epoch 12\n",
            "Currently running epoch 13\n",
            "Currently running epoch 14\n",
            "Currently running epoch 15\n",
            "Currently running epoch 1\n",
            "Currently running epoch 2\n",
            "Currently running epoch 3\n",
            "Currently running epoch 4\n",
            "Currently running epoch 5\n",
            "Currently running epoch 6\n",
            "Currently running epoch 7\n",
            "Currently running epoch 8\n",
            "Currently running epoch 9\n",
            "Currently running epoch 10\n",
            "Currently running epoch 11\n",
            "Currently running epoch 12\n",
            "Currently running epoch 13\n",
            "Currently running epoch 14\n",
            "Currently running epoch 15\n",
            "Currently running epoch 16\n",
            "Currently running epoch 17\n",
            "Currently running epoch 18\n",
            "Currently running epoch 19\n",
            "Currently running epoch 20\n",
            "Currently running epoch 1\n",
            "Currently running epoch 2\n",
            "Currently running epoch 3\n",
            "Currently running epoch 4\n",
            "Currently running epoch 5\n",
            "Currently running epoch 6\n",
            "Currently running epoch 7\n",
            "Currently running epoch 8\n",
            "Currently running epoch 9\n",
            "Currently running epoch 10\n",
            "Currently running epoch 11\n",
            "Currently running epoch 12\n",
            "Currently running epoch 13\n",
            "Currently running epoch 14\n",
            "Currently running epoch 15\n",
            "Currently running epoch 16\n",
            "Currently running epoch 17\n",
            "Currently running epoch 18\n",
            "Currently running epoch 19\n",
            "Currently running epoch 20\n",
            "Currently running epoch 21\n",
            "Currently running epoch 22\n",
            "Currently running epoch 23\n",
            "Currently running epoch 24\n",
            "Currently running epoch 25\n",
            "Done!\n"
          ]
        },
        {
          "output_type": "display_data",
          "data": {
            "text/plain": [
              "<Figure size 640x480 with 1 Axes>"
            ],
            "image/png": "[encoded data removed]"
          },
          "metadata": {}
        }
      ],
      "source": [
        "learning_rate = 1e-4\n",
        "batch_size = 128\n",
        "epochs = [1, 5, 10, 15, 20, 25]\n",
        "momentum = 0\n",
        "weight_decay = 0\n",
        "dampening = 0\n",
        "\n",
        "# Train and Test\n",
        "test_accs = []\n",
        "test_losses = []\n",
        "training_accs = []\n",
        "for e in epochs: #Would change this to reflect whatever hyperparameter you would be testing\n",
        "    # Model\n",
        "    model = CIFAR10Classifier().to(device)\n",
        "    model.requires_grad_(True)\n",
        "    # Optimizer\n",
        "    optimizer = torch.optim.Adam(model.parameters(),\n",
        "                            lr = learning_rate,\n",
        "                            # momentum = momentum,\n",
        "                            weight_decay = weight_decay,\n",
        "                            # dampening= dampening\n",
        "                                 )\n",
        "    # Loss Func\n",
        "    loss_fn = nn.CrossEntropyLoss()\n",
        "    # Dataloaders\n",
        "    train_dataloader = DataLoader(train_data, batch_size=batch_size)\n",
        "    test_dataloader = DataLoader(test_data, batch_size=batch_size)\n",
        "    final_train_acc = 0\n",
        "    final_test_acc = 0\n",
        "    final_test_loss = 0\n",
        "    for t in range(e):\n",
        "        print(f\"Currently running epoch {t+1}\")\n",
        "        training_acc = train_loop(train_dataloader, model, loss_fn, optimizer, print_log=False)\n",
        "        testing_acc, test_loss =  test_loop(test_dataloader, model, loss_fn, print_log=False)\n",
        "        final_test_acc = testing_acc\n",
        "        final_test_loss = test_loss\n",
        "        final_train_acc = training_acc\n",
        "    test_accs.append(final_test_acc)\n",
        "    test_losses.append(final_test_loss)\n",
        "    training_accs.append(final_train_acc)\n",
        "plt.plot(epochs,test_losses, color ='tab:red', label='testing loss')\n",
        "plt.plot(epochs,test_accs, color ='tab:blue', label='testing accuracy')\n",
        "plt.plot(epochs,training_accs, color ='tab:green', label='training accuracy')\n",
        "plt.legend()\n",
        "print(\"Done!\")\n"
      ]
    },
    {
      "cell_type": "code",
      "source": [
        "final_test_acc"
      ],
      "metadata": {
        "colab": {
          "base_uri": "https://localhost:8080/"
        },
        "id": "Fmo6AognrzNP",
        "outputId": "044e6fda-86d6-413b-b5ee-7a529fa6de06"
      },
      "id": "Fmo6AognrzNP",
      "execution_count": 12,
      "outputs": [
        {
          "output_type": "execute_result",
          "data": {
            "text/plain": [
              "51.41"
            ]
          },
          "metadata": {},
          "execution_count": 12
        }
      ]
    },
    {
      "cell_type": "markdown",
      "id": "w7Zi1npqHU7B",
      "metadata": {
        "id": "w7Zi1npqHU7B"
      },
      "source": [
        "<font size='4' color='Red'>Task 1.3 - Experiment 1 (2 point)</font>"
      ]
    },
    {
      "cell_type": "markdown",
      "id": "cd5IJznoH60y",
      "metadata": {
        "id": "cd5IJznoH60y"
      },
      "source": [
        "$$\\text{I am tuning learning rate hyperparameter for better performance}$$"
      ]
    },
    {
      "cell_type": "code",
      "execution_count": 13,
      "id": "9Fkd6usOHP0c",
      "metadata": {
        "id": "9Fkd6usOHP0c",
        "colab": {
          "base_uri": "https://localhost:8080/",
          "height": 1000
        },
        "outputId": "74ab18c4-5b32-44fc-92bd-b82e06268567"
      },
      "outputs": [
        {
          "output_type": "stream",
          "name": "stdout",
          "text": [
            "Currently running epoch 1\n",
            "Currently running epoch 2\n",
            "Currently running epoch 3\n",
            "Currently running epoch 4\n",
            "Currently running epoch 5\n",
            "Currently running epoch 6\n",
            "Currently running epoch 7\n",
            "Currently running epoch 8\n",
            "Currently running epoch 9\n",
            "Currently running epoch 10\n",
            "Currently running epoch 11\n",
            "Currently running epoch 12\n",
            "Currently running epoch 13\n",
            "Currently running epoch 14\n",
            "Currently running epoch 15\n",
            "Currently running epoch 16\n",
            "Currently running epoch 17\n",
            "Currently running epoch 18\n",
            "Currently running epoch 19\n",
            "Currently running epoch 20\n",
            "Currently running epoch 21\n",
            "Currently running epoch 22\n",
            "Currently running epoch 23\n",
            "Currently running epoch 24\n",
            "Currently running epoch 25\n",
            "Currently running epoch 1\n",
            "Currently running epoch 2\n",
            "Currently running epoch 3\n",
            "Currently running epoch 4\n",
            "Currently running epoch 5\n",
            "Currently running epoch 6\n",
            "Currently running epoch 7\n",
            "Currently running epoch 8\n",
            "Currently running epoch 9\n",
            "Currently running epoch 10\n",
            "Currently running epoch 11\n",
            "Currently running epoch 12\n",
            "Currently running epoch 13\n",
            "Currently running epoch 14\n",
            "Currently running epoch 15\n",
            "Currently running epoch 16\n",
            "Currently running epoch 17\n",
            "Currently running epoch 18\n",
            "Currently running epoch 19\n",
            "Currently running epoch 20\n",
            "Currently running epoch 21\n",
            "Currently running epoch 22\n",
            "Currently running epoch 23\n",
            "Currently running epoch 24\n",
            "Currently running epoch 25\n",
            "Currently running epoch 1\n",
            "Currently running epoch 2\n",
            "Currently running epoch 3\n",
            "Currently running epoch 4\n",
            "Currently running epoch 5\n",
            "Currently running epoch 6\n",
            "Currently running epoch 7\n",
            "Currently running epoch 8\n",
            "Currently running epoch 9\n",
            "Currently running epoch 10\n",
            "Currently running epoch 11\n",
            "Currently running epoch 12\n",
            "Currently running epoch 13\n",
            "Currently running epoch 14\n",
            "Currently running epoch 15\n",
            "Currently running epoch 16\n",
            "Currently running epoch 17\n",
            "Currently running epoch 18\n",
            "Currently running epoch 19\n",
            "Currently running epoch 20\n",
            "Currently running epoch 21\n",
            "Currently running epoch 22\n",
            "Currently running epoch 23\n",
            "Currently running epoch 24\n",
            "Currently running epoch 25\n",
            "Done!\n"
          ]
        },
        {
          "output_type": "display_data",
          "data": {
            "text/plain": [
              "<Figure size 640x480 with 1 Axes>"
            ],
            "image/png": "[encoded data removed]"
          },
          "metadata": {}
        }
      ],
      "source": [
        "############################################################################\n",
        "# TODO: Implement your code here\n",
        "############################################################################\n",
        "\n",
        "learning_rate = [1e-3, 1e-4, 1e-6]\n",
        "batch_size = 128\n",
        "epochs = 25\n",
        "momentum = 0\n",
        "weight_decay =0\n",
        "dampening = 0\n",
        "\n",
        "# Train and Test\n",
        "test_accs = []\n",
        "test_losses = []\n",
        "training_accs = []\n",
        "for lr in learning_rate: #Would change this to reflect whatever hyperparameter you would be testing\n",
        "    # Model\n",
        "    model = CIFAR10Classifier().to(device)\n",
        "    model.requires_grad_(True)\n",
        "    # Optimizer\n",
        "    optimizer = torch.optim.Adam(model.parameters(),\n",
        "                            lr = lr,\n",
        "                            # momentum = momentum,\n",
        "                            weight_decay = weight_decay,\n",
        "                            # dampening= dampening\n",
        "                                 )\n",
        "    # Loss Func\n",
        "    loss_fn = nn.CrossEntropyLoss()\n",
        "    # Dataloaders\n",
        "    train_dataloader = DataLoader(train_data, batch_size=batch_size)\n",
        "    test_dataloader = DataLoader(test_data, batch_size=batch_size)\n",
        "    final_train_acc = 0\n",
        "    final_test_acc = 0\n",
        "    final_test_loss = 0\n",
        "    for t in range(epochs):\n",
        "        print(f\"Currently running epoch {t+1}\")\n",
        "        training_acc = train_loop(train_dataloader, model, loss_fn, optimizer, print_log=False)\n",
        "        testing_acc, test_loss =  test_loop(test_dataloader, model, loss_fn, print_log=False)\n",
        "        final_test_acc = testing_acc\n",
        "        final_test_loss = test_loss\n",
        "        final_train_acc = training_acc\n",
        "    test_accs.append(final_test_acc)\n",
        "    test_losses.append(final_test_loss)\n",
        "    training_accs.append(final_train_acc)\n",
        "plt.plot(learning_rate,test_losses, color ='tab:red', label='testing loss')\n",
        "plt.plot(learning_rate,test_accs, color ='tab:blue', label='testing accuracy')\n",
        "plt.plot(learning_rate,training_accs, color ='tab:green', label='training accuracy')\n",
        "plt.legend()\n",
        "print(\"Done!\")\n",
        "\n",
        "############################################################################\n",
        "#                             END OF YOUR CODE                             #\n",
        "############################################################################"
      ]
    },
    {
      "cell_type": "code",
      "source": [
        "test_accs"
      ],
      "metadata": {
        "colab": {
          "base_uri": "https://localhost:8080/"
        },
        "id": "QDyAg9KTw6YV",
        "outputId": "9be42598-f569-41fa-ad09-44c1a6317925"
      },
      "id": "QDyAg9KTw6YV",
      "execution_count": 14,
      "outputs": [
        {
          "output_type": "execute_result",
          "data": {
            "text/plain": [
              "[49.14, 51.980000000000004, 31.41]"
            ]
          },
          "metadata": {},
          "execution_count": 14
        }
      ]
    },
    {
      "cell_type": "markdown",
      "id": "qnsKis_dLoGW",
      "metadata": {
        "id": "qnsKis_dLoGW"
      },
      "source": []
    },
    {
      "cell_type": "markdown",
      "id": "bCXoR1dtIVqE",
      "metadata": {
        "id": "bCXoR1dtIVqE"
      },
      "source": [
        "<font size='4' color='Red'>Task 1.3 - Experiment 2 (2 point)</font>"
      ]
    },
    {
      "cell_type": "markdown",
      "id": "NBR25sGzIaqE",
      "metadata": {
        "id": "NBR25sGzIaqE"
      },
      "source": [
        "$$\\text{I am tuning batch size hyperparameter for better performance}$$"
      ]
    },
    {
      "cell_type": "code",
      "execution_count": 15,
      "id": "7Xm_gZhsIaqP",
      "metadata": {
        "id": "7Xm_gZhsIaqP",
        "colab": {
          "base_uri": "https://localhost:8080/",
          "height": 1000
        },
        "outputId": "5a71319a-9749-4724-896c-bf1793948173"
      },
      "outputs": [
        {
          "output_type": "stream",
          "name": "stdout",
          "text": [
            "Currently running epoch 1\n",
            "Currently running epoch 2\n",
            "Currently running epoch 3\n",
            "Currently running epoch 4\n",
            "Currently running epoch 5\n",
            "Currently running epoch 6\n",
            "Currently running epoch 7\n",
            "Currently running epoch 8\n",
            "Currently running epoch 9\n",
            "Currently running epoch 10\n",
            "Currently running epoch 11\n",
            "Currently running epoch 12\n",
            "Currently running epoch 13\n",
            "Currently running epoch 14\n",
            "Currently running epoch 15\n",
            "Currently running epoch 16\n",
            "Currently running epoch 17\n",
            "Currently running epoch 18\n",
            "Currently running epoch 19\n",
            "Currently running epoch 20\n",
            "Currently running epoch 21\n",
            "Currently running epoch 22\n",
            "Currently running epoch 23\n",
            "Currently running epoch 24\n",
            "Currently running epoch 25\n",
            "Currently running epoch 1\n",
            "Currently running epoch 2\n",
            "Currently running epoch 3\n",
            "Currently running epoch 4\n",
            "Currently running epoch 5\n",
            "Currently running epoch 6\n",
            "Currently running epoch 7\n",
            "Currently running epoch 8\n",
            "Currently running epoch 9\n",
            "Currently running epoch 10\n",
            "Currently running epoch 11\n",
            "Currently running epoch 12\n",
            "Currently running epoch 13\n",
            "Currently running epoch 14\n",
            "Currently running epoch 15\n",
            "Currently running epoch 16\n",
            "Currently running epoch 17\n",
            "Currently running epoch 18\n",
            "Currently running epoch 19\n",
            "Currently running epoch 20\n",
            "Currently running epoch 21\n",
            "Currently running epoch 22\n",
            "Currently running epoch 23\n",
            "Currently running epoch 24\n",
            "Currently running epoch 25\n",
            "Currently running epoch 1\n",
            "Currently running epoch 2\n",
            "Currently running epoch 3\n",
            "Currently running epoch 4\n",
            "Currently running epoch 5\n",
            "Currently running epoch 6\n",
            "Currently running epoch 7\n",
            "Currently running epoch 8\n",
            "Currently running epoch 9\n",
            "Currently running epoch 10\n",
            "Currently running epoch 11\n",
            "Currently running epoch 12\n",
            "Currently running epoch 13\n",
            "Currently running epoch 14\n",
            "Currently running epoch 15\n",
            "Currently running epoch 16\n",
            "Currently running epoch 17\n",
            "Currently running epoch 18\n",
            "Currently running epoch 19\n",
            "Currently running epoch 20\n",
            "Currently running epoch 21\n",
            "Currently running epoch 22\n",
            "Currently running epoch 23\n",
            "Currently running epoch 24\n",
            "Currently running epoch 25\n",
            "Done!\n"
          ]
        },
        {
          "output_type": "display_data",
          "data": {
            "text/plain": [
              "<Figure size 640x480 with 1 Axes>"
            ],
            "image/png": "[encoded data removed]"
          },
          "metadata": {}
        }
      ],
      "source": [
        "############################################################################\n",
        "# TODO: Implement your code here\n",
        "############################################################################\n",
        "learning_rate =  1e-4\n",
        "batch_sizes = [128, 256, 512]\n",
        "epochs = 25\n",
        "momentum = 0\n",
        "weight_decay =0\n",
        "dampening = 0\n",
        "\n",
        "# Train and Test\n",
        "test_accs = []\n",
        "test_losses = []\n",
        "training_accs = []\n",
        "for batch_size in batch_sizes: #Would change this to reflect whatever hyperparameter you would be testing\n",
        "    # Model\n",
        "    model = CIFAR10Classifier().to(device)\n",
        "    model.requires_grad_(True)\n",
        "    # Optimizer\n",
        "    optimizer = torch.optim.Adam(model.parameters(),\n",
        "                            lr = lr,\n",
        "                            # momentum = momentum,\n",
        "                            weight_decay = weight_decay,\n",
        "                            # dampening= dampening\n",
        "                                 )\n",
        "    # Loss Func\n",
        "    loss_fn = nn.CrossEntropyLoss()\n",
        "    # Dataloaders\n",
        "    train_dataloader = DataLoader(train_data, batch_size=batch_size)\n",
        "    test_dataloader = DataLoader(test_data, batch_size=batch_size)\n",
        "    final_train_acc = 0\n",
        "    final_test_acc = 0\n",
        "    final_test_loss = 0\n",
        "    for t in range(epochs):\n",
        "        print(f\"Currently running epoch {t+1}\")\n",
        "        training_acc = train_loop(train_dataloader, model, loss_fn, optimizer, print_log=False)\n",
        "        testing_acc, test_loss =  test_loop(test_dataloader, model, loss_fn, print_log=False)\n",
        "        final_test_acc = testing_acc\n",
        "        final_test_loss = test_loss\n",
        "        final_train_acc = training_acc\n",
        "    test_accs.append(final_test_acc)\n",
        "    test_losses.append(final_test_loss)\n",
        "    training_accs.append(final_train_acc)\n",
        "plt.plot(batch_sizes,test_losses, color ='tab:red', label='testing loss')\n",
        "plt.plot(batch_sizes,test_accs, color ='tab:blue', label='testing accuracy')\n",
        "plt.plot(batch_sizes,training_accs, color ='tab:green', label='training accuracy')\n",
        "plt.legend()\n",
        "print(\"Done!\")\n",
        "\n",
        "############################################################################\n",
        "#                             END OF YOUR CODE                             #\n",
        "############################################################################"
      ]
    },
    {
      "cell_type": "code",
      "source": [
        "test_accs"
      ],
      "metadata": {
        "colab": {
          "base_uri": "https://localhost:8080/"
        },
        "id": "fI7ks0q27NUm",
        "outputId": "5a460e96-6005-47a0-9eb3-7751b9ae19cd"
      },
      "id": "fI7ks0q27NUm",
      "execution_count": 16,
      "outputs": [
        {
          "output_type": "execute_result",
          "data": {
            "text/plain": [
              "[31.919999999999998, 30.09, 27.62]"
            ]
          },
          "metadata": {},
          "execution_count": 16
        }
      ]
    },
    {
      "cell_type": "markdown",
      "id": "RXVjjad0IhZs",
      "metadata": {
        "id": "RXVjjad0IhZs"
      },
      "source": [
        "<font size='4' color='Red'>Task 1.4 - Experiment 3 (2 point)</font>"
      ]
    },
    {
      "cell_type": "markdown",
      "id": "6NZyqrBXIhZs",
      "metadata": {
        "id": "6NZyqrBXIhZs"
      },
      "source": [
        "$$\\text{I am tuning momentum hyperparameter for better performance}$$"
      ]
    },
    {
      "cell_type": "code",
      "execution_count": 17,
      "id": "XytrrMb3IhZs",
      "metadata": {
        "id": "XytrrMb3IhZs",
        "colab": {
          "base_uri": "https://localhost:8080/",
          "height": 1000
        },
        "outputId": "4b58dabd-141a-4474-b743-b26bd89febfd"
      },
      "outputs": [
        {
          "output_type": "stream",
          "name": "stdout",
          "text": [
            "Currently running epoch 1\n",
            "Currently running epoch 2\n",
            "Currently running epoch 3\n",
            "Currently running epoch 4\n",
            "Currently running epoch 5\n",
            "Currently running epoch 6\n",
            "Currently running epoch 7\n",
            "Currently running epoch 8\n",
            "Currently running epoch 9\n",
            "Currently running epoch 10\n",
            "Currently running epoch 11\n",
            "Currently running epoch 12\n",
            "Currently running epoch 13\n",
            "Currently running epoch 14\n",
            "Currently running epoch 15\n",
            "Currently running epoch 16\n",
            "Currently running epoch 17\n",
            "Currently running epoch 18\n",
            "Currently running epoch 19\n",
            "Currently running epoch 20\n",
            "Currently running epoch 21\n",
            "Currently running epoch 22\n",
            "Currently running epoch 23\n",
            "Currently running epoch 24\n",
            "Currently running epoch 25\n",
            "Currently running epoch 1\n",
            "Currently running epoch 2\n",
            "Currently running epoch 3\n",
            "Currently running epoch 4\n",
            "Currently running epoch 5\n",
            "Currently running epoch 6\n",
            "Currently running epoch 7\n",
            "Currently running epoch 8\n",
            "Currently running epoch 9\n",
            "Currently running epoch 10\n",
            "Currently running epoch 11\n",
            "Currently running epoch 12\n",
            "Currently running epoch 13\n",
            "Currently running epoch 14\n",
            "Currently running epoch 15\n",
            "Currently running epoch 16\n",
            "Currently running epoch 17\n",
            "Currently running epoch 18\n",
            "Currently running epoch 19\n",
            "Currently running epoch 20\n",
            "Currently running epoch 21\n",
            "Currently running epoch 22\n",
            "Currently running epoch 23\n",
            "Currently running epoch 24\n",
            "Currently running epoch 25\n",
            "Currently running epoch 1\n",
            "Currently running epoch 2\n",
            "Currently running epoch 3\n",
            "Currently running epoch 4\n",
            "Currently running epoch 5\n",
            "Currently running epoch 6\n",
            "Currently running epoch 7\n",
            "Currently running epoch 8\n",
            "Currently running epoch 9\n",
            "Currently running epoch 10\n",
            "Currently running epoch 11\n",
            "Currently running epoch 12\n",
            "Currently running epoch 13\n",
            "Currently running epoch 14\n",
            "Currently running epoch 15\n",
            "Currently running epoch 16\n",
            "Currently running epoch 17\n",
            "Currently running epoch 18\n",
            "Currently running epoch 19\n",
            "Currently running epoch 20\n",
            "Currently running epoch 21\n",
            "Currently running epoch 22\n",
            "Currently running epoch 23\n",
            "Currently running epoch 24\n",
            "Currently running epoch 25\n",
            "Done!\n"
          ]
        },
        {
          "output_type": "display_data",
          "data": {
            "text/plain": [
              "<Figure size 640x480 with 1 Axes>"
            ],
            "image/png": "[encoded data removed]"
          },
          "metadata": {}
        }
      ],
      "source": [
        "############################################################################\n",
        "# TODO: Implement your code here\n",
        "############################################################################\n",
        "learning_rate =  1e-4\n",
        "batch_sizes = 128\n",
        "epochs = 25\n",
        "momentum_vals = [0.1, 0.5, 0.9]\n",
        "weight_decay =0\n",
        "dampening = 0\n",
        "\n",
        "# Train and Test\n",
        "test_accs = []\n",
        "test_losses = []\n",
        "training_accs = []\n",
        "for momentum in momentum_vals: #Would change this to reflect whatever hyperparameter you would be testing\n",
        "    # Model\n",
        "    model = CIFAR10Classifier().to(device)\n",
        "    model.requires_grad_(True)\n",
        "    # Optimizer\n",
        "    optimizer = torch.optim.SGD(model.parameters(),\n",
        "                            lr = lr,\n",
        "                            momentum = momentum,\n",
        "                            weight_decay = weight_decay,\n",
        "                            dampening= dampening\n",
        "                                 )\n",
        "    # Loss Func\n",
        "    loss_fn = nn.CrossEntropyLoss()\n",
        "    # Dataloaders\n",
        "    train_dataloader = DataLoader(train_data, batch_size=batch_size)\n",
        "    test_dataloader = DataLoader(test_data, batch_size=batch_size)\n",
        "    final_train_acc = 0\n",
        "    final_test_acc = 0\n",
        "    final_test_loss = 0\n",
        "    for t in range(epochs):\n",
        "        print(f\"Currently running epoch {t+1}\")\n",
        "        training_acc = train_loop(train_dataloader, model, loss_fn, optimizer, print_log=False)\n",
        "        testing_acc, test_loss =  test_loop(test_dataloader, model, loss_fn, print_log=False)\n",
        "        final_test_acc = testing_acc\n",
        "        final_test_loss = test_loss\n",
        "        final_train_acc = training_acc\n",
        "    test_accs.append(final_test_acc)\n",
        "    test_losses.append(final_test_loss)\n",
        "    training_accs.append(final_train_acc)\n",
        "plt.plot(momentum_vals,test_losses, color ='tab:red', label='testing loss')\n",
        "plt.plot(momentum_vals,test_accs, color ='tab:blue', label='testing accuracy')\n",
        "plt.plot(momentum_vals,training_accs, color ='tab:green', label='training accuracy')\n",
        "plt.legend()\n",
        "print(\"Done!\")\n",
        "\n",
        "\n",
        "############################################################################\n",
        "#                             END OF YOUR CODE                             #\n",
        "############################################################################"
      ]
    },
    {
      "cell_type": "markdown",
      "source": [
        "Choosing the best parameters:\n"
      ],
      "metadata": {
        "id": "Iqz6IGihkYg3"
      },
      "id": "Iqz6IGihkYg3"
    },
    {
      "cell_type": "code",
      "source": [
        "learning_rate = 1e-4\n",
        "batch_size = 128\n",
        "epochs = [25,30]\n",
        "momentum = 0\n",
        "weight_decay = 0\n",
        "dampening = 0\n",
        "\n",
        "# Train and Test\n",
        "test_accs = []\n",
        "test_losses = []\n",
        "training_accs = []\n",
        "for e in epochs: #Would change this to reflect whatever hyperparameter you would be testing\n",
        "    # Model\n",
        "    model = CIFAR10Classifier().to(device)\n",
        "    model.requires_grad_(True)\n",
        "    # Optimizer\n",
        "    optimizer = torch.optim.Adam(model.parameters(),\n",
        "                            lr = learning_rate,\n",
        "                            # momentum = momentum,\n",
        "                            weight_decay = weight_decay,\n",
        "                            # dampening= dampening\n",
        "                                 )\n",
        "    # Loss Func\n",
        "    loss_fn = nn.CrossEntropyLoss()\n",
        "    # Dataloaders\n",
        "    train_dataloader = DataLoader(train_data, batch_size=batch_size)\n",
        "    test_dataloader = DataLoader(test_data, batch_size=batch_size)\n",
        "    final_train_acc = 0\n",
        "    final_test_acc = 0\n",
        "    final_test_loss = 0\n",
        "    for t in range(e):\n",
        "        print(f\"Currently running epoch {t+1}\")\n",
        "        training_acc = train_loop(train_dataloader, model, loss_fn, optimizer, print_log=False)\n",
        "        testing_acc, test_loss =  test_loop(test_dataloader, model, loss_fn, print_log=False)\n",
        "        final_test_acc = testing_acc\n",
        "        final_test_loss = test_loss\n",
        "        final_train_acc = training_acc\n",
        "    test_accs.append(final_test_acc)\n",
        "    test_losses.append(final_test_loss)\n",
        "    training_accs.append(final_train_acc)\n",
        "plt.plot(epochs,test_losses, color ='tab:red', label='testing loss')\n",
        "plt.plot(epochs,test_accs, color ='tab:blue', label='testing accuracy')\n",
        "plt.plot(epochs,training_accs, color ='tab:green', label='training accuracy')\n",
        "plt.legend()\n",
        "print(\"Done!\")\n"
      ],
      "metadata": {
        "colab": {
          "base_uri": "https://localhost:8080/",
          "height": 1000
        },
        "id": "G2QDm_YYk_rM",
        "outputId": "a1737ed6-27bf-4c5c-bf73-802dca7671df"
      },
      "id": "G2QDm_YYk_rM",
      "execution_count": 20,
      "outputs": [
        {
          "metadata": {
            "tags": null
          },
          "name": "stdout",
          "output_type": "stream",
          "text": [
            "Currently running epoch 1\n",
            "Currently running epoch 2\n",
            "Currently running epoch 3\n",
            "Currently running epoch 4\n",
            "Currently running epoch 5\n",
            "Currently running epoch 6\n",
            "Currently running epoch 7\n",
            "Currently running epoch 8\n",
            "Currently running epoch 9\n",
            "Currently running epoch 10\n",
            "Currently running epoch 11\n",
            "Currently running epoch 12\n",
            "Currently running epoch 13\n",
            "Currently running epoch 14\n",
            "Currently running epoch 15\n",
            "Currently running epoch 16\n",
            "Currently running epoch 17\n",
            "Currently running epoch 18\n",
            "Currently running epoch 19\n",
            "Currently running epoch 20\n",
            "Currently running epoch 21\n",
            "Currently running epoch 22\n",
            "Currently running epoch 23\n",
            "Currently running epoch 24\n",
            "Currently running epoch 25\n",
            "Currently running epoch 1\n",
            "Currently running epoch 2\n",
            "Currently running epoch 3\n",
            "Currently running epoch 4\n",
            "Currently running epoch 5\n",
            "Currently running epoch 6\n",
            "Currently running epoch 7\n",
            "Currently running epoch 8\n",
            "Currently running epoch 9\n",
            "Currently running epoch 10\n",
            "Currently running epoch 11\n",
            "Currently running epoch 12\n",
            "Currently running epoch 13\n",
            "Currently running epoch 14\n",
            "Currently running epoch 15\n",
            "Currently running epoch 16\n",
            "Currently running epoch 17\n",
            "Currently running epoch 18\n",
            "Currently running epoch 19\n",
            "Currently running epoch 20\n",
            "Currently running epoch 21\n",
            "Currently running epoch 22\n",
            "Currently running epoch 23\n",
            "Currently running epoch 24\n",
            "Currently running epoch 25\n",
            "Currently running epoch 26\n",
            "Currently running epoch 27\n",
            "Currently running epoch 28\n",
            "Currently running epoch 29\n",
            "Currently running epoch 30\n",
            "Done!\n"
          ]
        },
        {
          "data": {
            "image/png": "[encoded data removed]",
            "text/plain": [
              "<Figure size 640x480 with 1 Axes>"
            ]
          },
          "metadata": {},
          "output_type": "display_data"
        }
      ]
    },
    {
      "cell_type": "code",
      "source": [
        "test_accs"
      ],
      "metadata": {
        "colab": {
          "base_uri": "https://localhost:8080/"
        },
        "id": "-XjNyC6Doejo",
        "outputId": "82576cdd-a530-494d-dae6-4896d46f6bac"
      },
      "id": "-XjNyC6Doejo",
      "execution_count": 21,
      "outputs": [
        {
          "output_type": "execute_result",
          "data": {
            "text/plain": [
              "[51.53, 52.59]"
            ]
          },
          "metadata": {},
          "execution_count": 21
        }
      ]
    }
  ],
  "metadata": {
    "accelerator": "GPU",
    "colab": {
      "gpuType": "T4",
      "provenance": [],
      "include_colab_link": true
    },
    "kernelspec": {
      "display_name": "Python 3 (ipykernel)",
      "language": "python",
      "name": "python3"
    },
    "language_info": {
      "codemirror_mode": {
        "name": "ipython",
        "version": 3
      },
      "file_extension": ".py",
      "mimetype": "text/x-python",
      "name": "python",
      "nbconvert_exporter": "python",
      "pygments_lexer": "ipython3",
      "version": "3.10.6"
    }
  },
  "nbformat": 4,
  "nbformat_minor": 5
}